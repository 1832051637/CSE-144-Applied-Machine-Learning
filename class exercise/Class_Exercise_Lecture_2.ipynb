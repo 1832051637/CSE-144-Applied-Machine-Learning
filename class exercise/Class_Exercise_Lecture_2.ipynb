{
  "nbformat": 4,
  "nbformat_minor": 0,
  "metadata": {
    "kernelspec": {
      "display_name": "Python 3",
      "language": "python",
      "name": "python3"
    },
    "language_info": {
      "codemirror_mode": {
        "name": "ipython",
        "version": 3
      },
      "file_extension": ".py",
      "mimetype": "text/x-python",
      "name": "python",
      "nbconvert_exporter": "python",
      "pygments_lexer": "ipython3",
      "version": "3.7.6"
    },
    "colab": {
      "name": "Class Exercise - Lecture 2.ipynb",
      "provenance": [],
      "collapsed_sections": []
    }
  },
  "cells": [
    {
      "cell_type": "code",
      "metadata": {
        "id": "_cLl0a-6k4xl"
      },
      "source": [
        "import pandas as pd\n",
        "import numpy as np\n",
        "import seaborn as sns\n",
        "import matplotlib.pyplot as plt"
      ],
      "execution_count": null,
      "outputs": []
    },
    {
      "cell_type": "markdown",
      "metadata": {
        "id": "z5eutb54k4yD"
      },
      "source": [
        "### Data exploration and Cleaning\n",
        "Suppose you want to build a model to predict the selling price for a home in Socal. You find a dataset which contains current and closed listings. \n",
        "\n",
        "The data is stored as a .csv file. CSV stands for Comma-Seperated Values, meaning that each attribute is seperated with a comma.\n",
        "\n",
        "In python we use the library to read in .csv files into a structure called a dataframe."
      ]
    },
    {
      "cell_type": "code",
      "metadata": {
        "id": "LqDsBGGmk4yF"
      },
      "source": [
        "df = pd.read_csv('./socalhousing.csv') #stored in what is called a dataframe"
      ],
      "execution_count": null,
      "outputs": []
    },
    {
      "cell_type": "markdown",
      "metadata": {
        "id": "JWvBg2-yk4yL"
      },
      "source": [
        "Pandas is packed with lots of useful data exploration commands, we can see the first few rows with .head()"
      ]
    },
    {
      "cell_type": "code",
      "metadata": {
        "id": "WqVrjpuGk4yM",
        "colab": {
          "base_uri": "https://localhost:8080/",
          "height": 204
        },
        "outputId": "82380512-3ab8-46cb-dfca-a281bffcccce"
      },
      "source": [
        "df.head()"
      ],
      "execution_count": null,
      "outputs": [
        {
          "output_type": "execute_result",
          "data": {
            "text/html": [
              "<div>\n",
              "<style scoped>\n",
              "    .dataframe tbody tr th:only-of-type {\n",
              "        vertical-align: middle;\n",
              "    }\n",
              "\n",
              "    .dataframe tbody tr th {\n",
              "        vertical-align: top;\n",
              "    }\n",
              "\n",
              "    .dataframe thead th {\n",
              "        text-align: right;\n",
              "    }\n",
              "</style>\n",
              "<table border=\"1\" class=\"dataframe\">\n",
              "  <thead>\n",
              "    <tr style=\"text-align: right;\">\n",
              "      <th></th>\n",
              "      <th>street</th>\n",
              "      <th>city</th>\n",
              "      <th>bed</th>\n",
              "      <th>bath</th>\n",
              "      <th>price</th>\n",
              "      <th>status</th>\n",
              "      <th>sqft</th>\n",
              "    </tr>\n",
              "  </thead>\n",
              "  <tbody>\n",
              "    <tr>\n",
              "      <th>0</th>\n",
              "      <td>1317 Van Buren Avenue</td>\n",
              "      <td>Salton City, CA</td>\n",
              "      <td>3</td>\n",
              "      <td>2.0</td>\n",
              "      <td>201900</td>\n",
              "      <td>pending</td>\n",
              "      <td>1560</td>\n",
              "    </tr>\n",
              "    <tr>\n",
              "      <th>1</th>\n",
              "      <td>124 C Street W</td>\n",
              "      <td>Brawley, CA</td>\n",
              "      <td>3</td>\n",
              "      <td>2.0</td>\n",
              "      <td>228500</td>\n",
              "      <td>sold</td>\n",
              "      <td>713</td>\n",
              "    </tr>\n",
              "    <tr>\n",
              "      <th>2</th>\n",
              "      <td>2304 Clark Road</td>\n",
              "      <td>Imperial, CA</td>\n",
              "      <td>3</td>\n",
              "      <td>1.0</td>\n",
              "      <td>273950</td>\n",
              "      <td>for sale</td>\n",
              "      <td>800</td>\n",
              "    </tr>\n",
              "    <tr>\n",
              "      <th>3</th>\n",
              "      <td>755 Brawley Avenue</td>\n",
              "      <td>Brawley, CA</td>\n",
              "      <td>3</td>\n",
              "      <td>1.0</td>\n",
              "      <td>350000</td>\n",
              "      <td>for sale</td>\n",
              "      <td>1082</td>\n",
              "    </tr>\n",
              "    <tr>\n",
              "      <th>4</th>\n",
              "      <td>2207 R Carrillo Court</td>\n",
              "      <td>Calexico, CA</td>\n",
              "      <td>4</td>\n",
              "      <td>3.0</td>\n",
              "      <td>385100</td>\n",
              "      <td>pending</td>\n",
              "      <td>2547</td>\n",
              "    </tr>\n",
              "  </tbody>\n",
              "</table>\n",
              "</div>"
            ],
            "text/plain": [
              "                  street             city  bed  bath   price    status  sqft\n",
              "0  1317 Van Buren Avenue  Salton City, CA    3   2.0  201900   pending  1560\n",
              "1         124 C Street W      Brawley, CA    3   2.0  228500      sold   713\n",
              "2        2304 Clark Road     Imperial, CA    3   1.0  273950  for sale   800\n",
              "3     755 Brawley Avenue      Brawley, CA    3   1.0  350000  for sale  1082\n",
              "4  2207 R Carrillo Court     Calexico, CA    4   3.0  385100   pending  2547"
            ]
          },
          "metadata": {
            "tags": []
          },
          "execution_count": 3
        }
      ]
    },
    {
      "cell_type": "markdown",
      "metadata": {
        "id": "Fk1b0HjPk4yS"
      },
      "source": [
        "Other useful tools are describe(), hist(), and info() methods. Try each of them and see their functionality in the code cell below."
      ]
    },
    {
      "cell_type": "code",
      "metadata": {
        "id": "ScAbV_LOk4yT"
      },
      "source": [
        "# Try describe(), hist(), and info() functions\n",
        "\n",
        "df.hist()\n"
      ],
      "execution_count": null,
      "outputs": []
    },
    {
      "cell_type": "markdown",
      "metadata": {
        "id": "LJGEB52K5tCN"
      },
      "source": [
        "In the following code cell, plot histogram of the 'sqft' column. You can use hist() function or distplot() from seaborn module."
      ]
    },
    {
      "cell_type": "code",
      "metadata": {
        "id": "in4EtPklqYLs",
        "colab": {
          "base_uri": "https://localhost:8080/",
          "height": 350
        },
        "outputId": "195b6c09-ad1b-46a3-ce6d-09bb8afafdc3"
      },
      "source": [
        "# Plot histogram of the sqft column\n",
        "sns.distplot(df['sqft'])"
      ],
      "execution_count": null,
      "outputs": [
        {
          "output_type": "stream",
          "text": [
            "/usr/local/lib/python3.6/dist-packages/seaborn/distributions.py:2557: FutureWarning: `distplot` is a deprecated function and will be removed in a future version. Please adapt your code to use either `displot` (a figure-level function with similar flexibility) or `histplot` (an axes-level function for histograms).\n",
            "  warnings.warn(msg, FutureWarning)\n"
          ],
          "name": "stderr"
        },
        {
          "output_type": "execute_result",
          "data": {
            "text/plain": [
              "<matplotlib.axes._subplots.AxesSubplot at 0x7fa620fdb8d0>"
            ]
          },
          "metadata": {
            "tags": []
          },
          "execution_count": 9
        },
        {
          "output_type": "display_data",
          "data": {
            "image/png": "[encoded data removed]",
            "text/plain": [
              "<Figure size 432x288 with 1 Axes>"
            ]
          },
          "metadata": {
            "tags": [],
            "needs_background": "light"
          }
        }
      ]
    },
    {
      "cell_type": "markdown",
      "metadata": {
        "id": "e-TJgie1k4ya"
      },
      "source": [
        "As you can see the min bathroom count is 0 and max is 36, let's investigate further to see if this is an error."
      ]
    },
    {
      "cell_type": "markdown",
      "metadata": {
        "id": "jSwJqfSdlEG3"
      },
      "source": [
        "#### Removing faulty rows"
      ]
    },
    {
      "cell_type": "code",
      "metadata": {
        "id": "_D6qTaBsk4yb",
        "colab": {
          "base_uri": "https://localhost:8080/",
          "height": 390
        },
        "outputId": "0cfb2132-8cdd-4ba3-9c4e-7ebb1b49edb4"
      },
      "source": [
        "# all that have 0 baths\n",
        "df[df['bath'] == 0]"
      ],
      "execution_count": null,
      "outputs": [
        {
          "output_type": "execute_result",
          "data": {
            "text/html": [
              "<div>\n",
              "<style scoped>\n",
              "    .dataframe tbody tr th:only-of-type {\n",
              "        vertical-align: middle;\n",
              "    }\n",
              "\n",
              "    .dataframe tbody tr th {\n",
              "        vertical-align: top;\n",
              "    }\n",
              "\n",
              "    .dataframe thead th {\n",
              "        text-align: right;\n",
              "    }\n",
              "</style>\n",
              "<table border=\"1\" class=\"dataframe\">\n",
              "  <thead>\n",
              "    <tr style=\"text-align: right;\">\n",
              "      <th></th>\n",
              "      <th>street</th>\n",
              "      <th>city</th>\n",
              "      <th>bed</th>\n",
              "      <th>bath</th>\n",
              "      <th>price</th>\n",
              "      <th>status</th>\n",
              "      <th>sqft</th>\n",
              "    </tr>\n",
              "  </thead>\n",
              "  <tbody>\n",
              "    <tr>\n",
              "      <th>3459</th>\n",
              "      <td>13481 Saint Andrews</td>\n",
              "      <td>Seal Beach, CA</td>\n",
              "      <td>2</td>\n",
              "      <td>0.0</td>\n",
              "      <td>229000</td>\n",
              "      <td>sold</td>\n",
              "      <td>900</td>\n",
              "    </tr>\n",
              "    <tr>\n",
              "      <th>3603</th>\n",
              "      <td>715 Avenida Columbo</td>\n",
              "      <td>San Clemente, CA</td>\n",
              "      <td>3</td>\n",
              "      <td>0.0</td>\n",
              "      <td>399000</td>\n",
              "      <td>pending</td>\n",
              "      <td>1300</td>\n",
              "    </tr>\n",
              "    <tr>\n",
              "      <th>3639</th>\n",
              "      <td>715 Avenida Columbo</td>\n",
              "      <td>San Clemente, CA</td>\n",
              "      <td>3</td>\n",
              "      <td>0.0</td>\n",
              "      <td>399000</td>\n",
              "      <td>pending</td>\n",
              "      <td>1300</td>\n",
              "    </tr>\n",
              "    <tr>\n",
              "      <th>5686</th>\n",
              "      <td>62646 N Starcross Drive</td>\n",
              "      <td>Desert Hot Springs, CA</td>\n",
              "      <td>3</td>\n",
              "      <td>0.0</td>\n",
              "      <td>281000</td>\n",
              "      <td>sold</td>\n",
              "      <td>2009</td>\n",
              "    </tr>\n",
              "    <tr>\n",
              "      <th>9185</th>\n",
              "      <td>159 Velwood Drive</td>\n",
              "      <td>Redlands, CA</td>\n",
              "      <td>3</td>\n",
              "      <td>0.0</td>\n",
              "      <td>450000</td>\n",
              "      <td>sold</td>\n",
              "      <td>1648</td>\n",
              "    </tr>\n",
              "    <tr>\n",
              "      <th>9365</th>\n",
              "      <td>159 Velwood Drive</td>\n",
              "      <td>Redlands, CA</td>\n",
              "      <td>3</td>\n",
              "      <td>0.0</td>\n",
              "      <td>450000</td>\n",
              "      <td>sold</td>\n",
              "      <td>1648</td>\n",
              "    </tr>\n",
              "    <tr>\n",
              "      <th>14542</th>\n",
              "      <td>401 Walbridge Way</td>\n",
              "      <td>Ojai, CA</td>\n",
              "      <td>5</td>\n",
              "      <td>0.0</td>\n",
              "      <td>1250000</td>\n",
              "      <td>pending</td>\n",
              "      <td>3000</td>\n",
              "    </tr>\n",
              "    <tr>\n",
              "      <th>14798</th>\n",
              "      <td>39 Margarita Avenue</td>\n",
              "      <td>Camarillo, CA</td>\n",
              "      <td>2</td>\n",
              "      <td>0.0</td>\n",
              "      <td>399000</td>\n",
              "      <td>sold</td>\n",
              "      <td>1430</td>\n",
              "    </tr>\n",
              "    <tr>\n",
              "      <th>14810</th>\n",
              "      <td>39 Margarita Avenue</td>\n",
              "      <td>Camarillo, CA</td>\n",
              "      <td>2</td>\n",
              "      <td>0.0</td>\n",
              "      <td>399000</td>\n",
              "      <td>for sale</td>\n",
              "      <td>1430</td>\n",
              "    </tr>\n",
              "    <tr>\n",
              "      <th>15390</th>\n",
              "      <td>1475 Forest Drive</td>\n",
              "      <td>Santa Paula, CA</td>\n",
              "      <td>3</td>\n",
              "      <td>0.0</td>\n",
              "      <td>840000</td>\n",
              "      <td>for sale</td>\n",
              "      <td>2625</td>\n",
              "    </tr>\n",
              "    <tr>\n",
              "      <th>15391</th>\n",
              "      <td>1445 Forest Drive</td>\n",
              "      <td>Santa Paula, CA</td>\n",
              "      <td>3</td>\n",
              "      <td>0.0</td>\n",
              "      <td>825000</td>\n",
              "      <td>sold</td>\n",
              "      <td>2924</td>\n",
              "    </tr>\n",
              "  </tbody>\n",
              "</table>\n",
              "</div>"
            ],
            "text/plain": [
              "                        street                    city  ...    status  sqft\n",
              "3459       13481 Saint Andrews          Seal Beach, CA  ...      sold   900\n",
              "3603       715 Avenida Columbo        San Clemente, CA  ...   pending  1300\n",
              "3639       715 Avenida Columbo        San Clemente, CA  ...   pending  1300\n",
              "5686   62646 N Starcross Drive  Desert Hot Springs, CA  ...      sold  2009\n",
              "9185         159 Velwood Drive            Redlands, CA  ...      sold  1648\n",
              "9365         159 Velwood Drive            Redlands, CA  ...      sold  1648\n",
              "14542        401 Walbridge Way                Ojai, CA  ...   pending  3000\n",
              "14798      39 Margarita Avenue           Camarillo, CA  ...      sold  1430\n",
              "14810      39 Margarita Avenue           Camarillo, CA  ...  for sale  1430\n",
              "15390        1475 Forest Drive         Santa Paula, CA  ...  for sale  2625\n",
              "15391        1445 Forest Drive         Santa Paula, CA  ...      sold  2924\n",
              "\n",
              "[11 rows x 7 columns]"
            ]
          },
          "metadata": {
            "tags": []
          },
          "execution_count": 10
        }
      ]
    },
    {
      "cell_type": "code",
      "metadata": {
        "id": "wxrjtAXjk4yg",
        "colab": {
          "base_uri": "https://localhost:8080/",
          "height": 111
        },
        "outputId": "7d9692bd-d064-409c-c5f5-55be52e5f487"
      },
      "source": [
        "# Find all that have 5 more baths than beds\n",
        "df[df['bed'] + 5 < df['bath']]"
      ],
      "execution_count": null,
      "outputs": [
        {
          "output_type": "execute_result",
          "data": {
            "text/html": [
              "<div>\n",
              "<style scoped>\n",
              "    .dataframe tbody tr th:only-of-type {\n",
              "        vertical-align: middle;\n",
              "    }\n",
              "\n",
              "    .dataframe tbody tr th {\n",
              "        vertical-align: top;\n",
              "    }\n",
              "\n",
              "    .dataframe thead th {\n",
              "        text-align: right;\n",
              "    }\n",
              "</style>\n",
              "<table border=\"1\" class=\"dataframe\">\n",
              "  <thead>\n",
              "    <tr style=\"text-align: right;\">\n",
              "      <th></th>\n",
              "      <th>street</th>\n",
              "      <th>city</th>\n",
              "      <th>bed</th>\n",
              "      <th>bath</th>\n",
              "      <th>price</th>\n",
              "      <th>status</th>\n",
              "      <th>sqft</th>\n",
              "    </tr>\n",
              "  </thead>\n",
              "  <tbody>\n",
              "    <tr>\n",
              "      <th>714</th>\n",
              "      <td>45439 Gingham Avenue</td>\n",
              "      <td>Lancaster, CA</td>\n",
              "      <td>4</td>\n",
              "      <td>36.0</td>\n",
              "      <td>240000</td>\n",
              "      <td>pending</td>\n",
              "      <td>1229</td>\n",
              "    </tr>\n",
              "    <tr>\n",
              "      <th>778</th>\n",
              "      <td>37809 Rudall Avenue</td>\n",
              "      <td>Palmdale, CA</td>\n",
              "      <td>4</td>\n",
              "      <td>13.0</td>\n",
              "      <td>299000</td>\n",
              "      <td>for sale</td>\n",
              "      <td>1836</td>\n",
              "    </tr>\n",
              "  </tbody>\n",
              "</table>\n",
              "</div>"
            ],
            "text/plain": [
              "                   street           city  bed  bath   price    status  sqft\n",
              "714  45439 Gingham Avenue  Lancaster, CA    4  36.0  240000   pending  1229\n",
              "778   37809 Rudall Avenue   Palmdale, CA    4  13.0  299000  for sale  1836"
            ]
          },
          "metadata": {
            "tags": []
          },
          "execution_count": 11
        }
      ]
    },
    {
      "cell_type": "markdown",
      "metadata": {
        "id": "iMQWhEsWk4ym"
      },
      "source": [
        "Lets drop all these rows."
      ]
    },
    {
      "cell_type": "code",
      "metadata": {
        "id": "u1GPWBhNk4yn"
      },
      "source": [
        "indexes= df[ df['bath'] == 0 ].index\n",
        "df.drop(indexes, inplace=True)"
      ],
      "execution_count": null,
      "outputs": []
    },
    {
      "cell_type": "code",
      "metadata": {
        "id": "byhR9G-Nz-1Y",
        "colab": {
          "base_uri": "https://localhost:8080/",
          "height": 49
        },
        "outputId": "056471a1-cbd7-41ee-acd8-79523b6b7895"
      },
      "source": [
        "df[df['bath'] == 0]"
      ],
      "execution_count": null,
      "outputs": [
        {
          "output_type": "execute_result",
          "data": {
            "text/html": [
              "<div>\n",
              "<style scoped>\n",
              "    .dataframe tbody tr th:only-of-type {\n",
              "        vertical-align: middle;\n",
              "    }\n",
              "\n",
              "    .dataframe tbody tr th {\n",
              "        vertical-align: top;\n",
              "    }\n",
              "\n",
              "    .dataframe thead th {\n",
              "        text-align: right;\n",
              "    }\n",
              "</style>\n",
              "<table border=\"1\" class=\"dataframe\">\n",
              "  <thead>\n",
              "    <tr style=\"text-align: right;\">\n",
              "      <th></th>\n",
              "      <th>street</th>\n",
              "      <th>city</th>\n",
              "      <th>bed</th>\n",
              "      <th>bath</th>\n",
              "      <th>price</th>\n",
              "      <th>status</th>\n",
              "      <th>sqft</th>\n",
              "    </tr>\n",
              "  </thead>\n",
              "  <tbody>\n",
              "  </tbody>\n",
              "</table>\n",
              "</div>"
            ],
            "text/plain": [
              "Empty DataFrame\n",
              "Columns: [street, city, bed, bath, price, status, sqft]\n",
              "Index: []"
            ]
          },
          "metadata": {
            "tags": []
          },
          "execution_count": 13
        }
      ]
    },
    {
      "cell_type": "code",
      "metadata": {
        "id": "J9ogUl3Dk4ys"
      },
      "source": [
        "# Let's also drop rows with # bath > # bed + 5 (that's pretty irregular, unless you have >20 bedrooms)\n",
        "indexes = df[df['bath'] > df['bed'] + 5].index\n",
        "df.drop(indexes, inplace=True)"
      ],
      "execution_count": null,
      "outputs": []
    },
    {
      "cell_type": "code",
      "metadata": {
        "colab": {
          "base_uri": "https://localhost:8080/",
          "height": 49
        },
        "id": "-4NNFUAtypOE",
        "outputId": "a79ea954-8ae1-4bc7-e360-867926f65b47"
      },
      "source": [
        "df[df['bed'] + 5 < df['bath']]"
      ],
      "execution_count": null,
      "outputs": [
        {
          "output_type": "execute_result",
          "data": {
            "text/html": [
              "<div>\n",
              "<style scoped>\n",
              "    .dataframe tbody tr th:only-of-type {\n",
              "        vertical-align: middle;\n",
              "    }\n",
              "\n",
              "    .dataframe tbody tr th {\n",
              "        vertical-align: top;\n",
              "    }\n",
              "\n",
              "    .dataframe thead th {\n",
              "        text-align: right;\n",
              "    }\n",
              "</style>\n",
              "<table border=\"1\" class=\"dataframe\">\n",
              "  <thead>\n",
              "    <tr style=\"text-align: right;\">\n",
              "      <th></th>\n",
              "      <th>street</th>\n",
              "      <th>city</th>\n",
              "      <th>bed</th>\n",
              "      <th>bath</th>\n",
              "      <th>price</th>\n",
              "      <th>status</th>\n",
              "      <th>sqft</th>\n",
              "    </tr>\n",
              "  </thead>\n",
              "  <tbody>\n",
              "  </tbody>\n",
              "</table>\n",
              "</div>"
            ],
            "text/plain": [
              "Empty DataFrame\n",
              "Columns: [street, city, bed, bath, price, status, sqft]\n",
              "Index: []"
            ]
          },
          "metadata": {
            "tags": []
          },
          "execution_count": 15
        }
      ]
    },
    {
      "cell_type": "markdown",
      "metadata": {
        "id": "F_dMxtENk4yw"
      },
      "source": [
        "Now let's see our .describe() once again. Much more reasonable data."
      ]
    },
    {
      "cell_type": "code",
      "metadata": {
        "id": "90zurPJuk4yw",
        "colab": {
          "base_uri": "https://localhost:8080/",
          "height": 297
        },
        "outputId": "e34406b1-2232-4202-8645-8d16f7b0d80e"
      },
      "source": [
        "df.describe()"
      ],
      "execution_count": null,
      "outputs": [
        {
          "output_type": "execute_result",
          "data": {
            "text/html": [
              "<div>\n",
              "<style scoped>\n",
              "    .dataframe tbody tr th:only-of-type {\n",
              "        vertical-align: middle;\n",
              "    }\n",
              "\n",
              "    .dataframe tbody tr th {\n",
              "        vertical-align: top;\n",
              "    }\n",
              "\n",
              "    .dataframe thead th {\n",
              "        text-align: right;\n",
              "    }\n",
              "</style>\n",
              "<table border=\"1\" class=\"dataframe\">\n",
              "  <thead>\n",
              "    <tr style=\"text-align: right;\">\n",
              "      <th></th>\n",
              "      <th>bed</th>\n",
              "      <th>bath</th>\n",
              "      <th>price</th>\n",
              "      <th>sqft</th>\n",
              "    </tr>\n",
              "  </thead>\n",
              "  <tbody>\n",
              "    <tr>\n",
              "      <th>count</th>\n",
              "      <td>15461.000000</td>\n",
              "      <td>15461.000000</td>\n",
              "      <td>1.546100e+04</td>\n",
              "      <td>15461.000000</td>\n",
              "    </tr>\n",
              "    <tr>\n",
              "      <th>mean</th>\n",
              "      <td>3.506759</td>\n",
              "      <td>2.452144</td>\n",
              "      <td>7.032943e+05</td>\n",
              "      <td>2174.235431</td>\n",
              "    </tr>\n",
              "    <tr>\n",
              "      <th>std</th>\n",
              "      <td>1.034919</td>\n",
              "      <td>0.914159</td>\n",
              "      <td>3.769964e+05</td>\n",
              "      <td>1025.540600</td>\n",
              "    </tr>\n",
              "    <tr>\n",
              "      <th>min</th>\n",
              "      <td>1.000000</td>\n",
              "      <td>0.100000</td>\n",
              "      <td>1.950000e+05</td>\n",
              "      <td>280.000000</td>\n",
              "    </tr>\n",
              "    <tr>\n",
              "      <th>25%</th>\n",
              "      <td>3.000000</td>\n",
              "      <td>2.000000</td>\n",
              "      <td>4.450000e+05</td>\n",
              "      <td>1426.000000</td>\n",
              "    </tr>\n",
              "    <tr>\n",
              "      <th>50%</th>\n",
              "      <td>3.000000</td>\n",
              "      <td>2.100000</td>\n",
              "      <td>6.390000e+05</td>\n",
              "      <td>1952.000000</td>\n",
              "    </tr>\n",
              "    <tr>\n",
              "      <th>75%</th>\n",
              "      <td>4.000000</td>\n",
              "      <td>3.000000</td>\n",
              "      <td>8.350000e+05</td>\n",
              "      <td>2738.000000</td>\n",
              "    </tr>\n",
              "    <tr>\n",
              "      <th>max</th>\n",
              "      <td>12.000000</td>\n",
              "      <td>11.200000</td>\n",
              "      <td>2.000000e+06</td>\n",
              "      <td>17667.000000</td>\n",
              "    </tr>\n",
              "  </tbody>\n",
              "</table>\n",
              "</div>"
            ],
            "text/plain": [
              "                bed          bath         price          sqft\n",
              "count  15461.000000  15461.000000  1.546100e+04  15461.000000\n",
              "mean       3.506759      2.452144  7.032943e+05   2174.235431\n",
              "std        1.034919      0.914159  3.769964e+05   1025.540600\n",
              "min        1.000000      0.100000  1.950000e+05    280.000000\n",
              "25%        3.000000      2.000000  4.450000e+05   1426.000000\n",
              "50%        3.000000      2.100000  6.390000e+05   1952.000000\n",
              "75%        4.000000      3.000000  8.350000e+05   2738.000000\n",
              "max       12.000000     11.200000  2.000000e+06  17667.000000"
            ]
          },
          "metadata": {
            "tags": []
          },
          "execution_count": 16
        }
      ]
    },
    {
      "cell_type": "markdown",
      "metadata": {
        "id": "194xAB8Zk4y7"
      },
      "source": [
        "From looking at the data we see there are 7 different attribute (1 of which we are trying to predict)\n",
        " - street address\n",
        " - city \n",
        " - bedroom count\n",
        " - bathroom count\n",
        " - sqft\n",
        " - price\n",
        " - status\n",
        " \n",
        "\n",
        "Assume we only want to use the following columns:\n",
        "\n",
        "- city\n",
        "- bedroom count\n",
        "- bathroom count\n",
        "- sqft\n"
      ]
    },
    {
      "cell_type": "markdown",
      "metadata": {
        "id": "bQsaLYOuk4y8"
      },
      "source": [
        "The status column describes whether a house is sold, pending, or for sale.\n",
        "\n",
        "Since we want to predict only sell prices, we only care about the values for the houses that have been sold, or are pending to be sold. \n",
        "\n",
        "We need to drop the rows for the houses still for sale.\n",
        "\n",
        "We also need to drop the street column and status column as they will not be used in our model."
      ]
    },
    {
      "cell_type": "code",
      "metadata": {
        "id": "l1BN6jqkk4y-",
        "colab": {
          "base_uri": "https://localhost:8080/",
          "height": 204
        },
        "outputId": "8421b019-c1b8-41fc-907c-87a584500d70"
      },
      "source": [
        "indexes= df[ df['status'] == 'for sale' ].index\n",
        "df.drop(indexes, inplace=True)\n",
        "\n",
        "# We don't need the status column anymore\n",
        "df = df.drop(columns=['status'])\n",
        "\n",
        "# We aren't using the street col, so let's remove it\n",
        "df = df.drop(columns=['street'])\n",
        "\n",
        "df.head()"
      ],
      "execution_count": null,
      "outputs": [
        {
          "output_type": "execute_result",
          "data": {
            "text/html": [
              "<div>\n",
              "<style scoped>\n",
              "    .dataframe tbody tr th:only-of-type {\n",
              "        vertical-align: middle;\n",
              "    }\n",
              "\n",
              "    .dataframe tbody tr th {\n",
              "        vertical-align: top;\n",
              "    }\n",
              "\n",
              "    .dataframe thead th {\n",
              "        text-align: right;\n",
              "    }\n",
              "</style>\n",
              "<table border=\"1\" class=\"dataframe\">\n",
              "  <thead>\n",
              "    <tr style=\"text-align: right;\">\n",
              "      <th></th>\n",
              "      <th>city</th>\n",
              "      <th>bed</th>\n",
              "      <th>bath</th>\n",
              "      <th>price</th>\n",
              "      <th>sqft</th>\n",
              "    </tr>\n",
              "  </thead>\n",
              "  <tbody>\n",
              "    <tr>\n",
              "      <th>0</th>\n",
              "      <td>Salton City, CA</td>\n",
              "      <td>3</td>\n",
              "      <td>2.0</td>\n",
              "      <td>201900</td>\n",
              "      <td>1560</td>\n",
              "    </tr>\n",
              "    <tr>\n",
              "      <th>1</th>\n",
              "      <td>Brawley, CA</td>\n",
              "      <td>3</td>\n",
              "      <td>2.0</td>\n",
              "      <td>228500</td>\n",
              "      <td>713</td>\n",
              "    </tr>\n",
              "    <tr>\n",
              "      <th>4</th>\n",
              "      <td>Calexico, CA</td>\n",
              "      <td>4</td>\n",
              "      <td>3.0</td>\n",
              "      <td>385100</td>\n",
              "      <td>2547</td>\n",
              "    </tr>\n",
              "    <tr>\n",
              "      <th>5</th>\n",
              "      <td>Brawley, CA</td>\n",
              "      <td>3</td>\n",
              "      <td>1.0</td>\n",
              "      <td>350000</td>\n",
              "      <td>1082</td>\n",
              "    </tr>\n",
              "    <tr>\n",
              "      <th>7</th>\n",
              "      <td>Brawley, CA</td>\n",
              "      <td>5</td>\n",
              "      <td>2.1</td>\n",
              "      <td>545000</td>\n",
              "      <td>2600</td>\n",
              "    </tr>\n",
              "  </tbody>\n",
              "</table>\n",
              "</div>"
            ],
            "text/plain": [
              "              city  bed  bath   price  sqft\n",
              "0  Salton City, CA    3   2.0  201900  1560\n",
              "1      Brawley, CA    3   2.0  228500   713\n",
              "4     Calexico, CA    4   3.0  385100  2547\n",
              "5      Brawley, CA    3   1.0  350000  1082\n",
              "7      Brawley, CA    5   2.1  545000  2600"
            ]
          },
          "metadata": {
            "tags": []
          },
          "execution_count": 17
        }
      ]
    },
    {
      "cell_type": "markdown",
      "metadata": {
        "id": "OANk32Utk4zC"
      },
      "source": [
        "Now we dropped all the unimportant rows in our data.\n",
        "\n",
        "All of these features seem crucial to determine selling price for a home. However, machine learning models only operate on numbers, we need to convert these columns to numerical values before we can use it! \n",
        "\n",
        "Lets start on the city!\n"
      ]
    },
    {
      "cell_type": "markdown",
      "metadata": {
        "id": "kXlw4vzRlg9n"
      },
      "source": [
        "#### Numerical data from categorical city data"
      ]
    },
    {
      "cell_type": "code",
      "metadata": {
        "id": "QQVFtqgsk4zD",
        "colab": {
          "base_uri": "https://localhost:8080/"
        },
        "outputId": "ee30462e-b6ad-4dfb-fdb7-500707977ead"
      },
      "source": [
        "df['city'].describe()"
      ],
      "execution_count": null,
      "outputs": [
        {
          "output_type": "execute_result",
          "data": {
            "text/plain": [
              "count             10316\n",
              "unique              398\n",
              "top       San Diego, CA\n",
              "freq                479\n",
              "Name: city, dtype: object"
            ]
          },
          "metadata": {
            "tags": []
          },
          "execution_count": 18
        }
      ]
    },
    {
      "cell_type": "markdown",
      "metadata": {
        "id": "StJB4cAok4zI"
      },
      "source": [
        "Notice that we have 10316 rows but only 398 unique values, this is analogous to your data having 398 different classes, we need to turn this into numbers to continue.\n"
      ]
    },
    {
      "cell_type": "code",
      "metadata": {
        "id": "8qJyVT38k4zJ"
      },
      "source": [
        "# Generate a dictionary that maps all unique cities to a unique id\n",
        "city_dict = {city_name:i for i,city_name in enumerate(df['city'].unique())} "
      ],
      "execution_count": null,
      "outputs": []
    },
    {
      "cell_type": "code",
      "metadata": {
        "id": "DjBbWf7uk4zM"
      },
      "source": [
        "# Uses the city dictionary to retrieve the id\n",
        "def integer_encode_city_name(city_name):\n",
        "    return city_dict[city_name]"
      ],
      "execution_count": null,
      "outputs": []
    },
    {
      "cell_type": "code",
      "metadata": {
        "id": "ckBNthUrk4zQ"
      },
      "source": [
        "# Apply the function to the city column and store in new column called city_num\n",
        "df['city_num'] = df['city'].apply(integer_encode_city_name)"
      ],
      "execution_count": null,
      "outputs": []
    },
    {
      "cell_type": "markdown",
      "metadata": {
        "id": "XDR5iUQ3k4zV"
      },
      "source": [
        "Now our df looks like this, notice how Brawly, CA mapped to 1."
      ]
    },
    {
      "cell_type": "code",
      "metadata": {
        "id": "2X_ffCthk4zW",
        "colab": {
          "base_uri": "https://localhost:8080/",
          "height": 204
        },
        "outputId": "22c2e00f-f118-479b-fccd-c8e602335141"
      },
      "source": [
        "df.head()"
      ],
      "execution_count": null,
      "outputs": [
        {
          "output_type": "execute_result",
          "data": {
            "text/html": [
              "<div>\n",
              "<style scoped>\n",
              "    .dataframe tbody tr th:only-of-type {\n",
              "        vertical-align: middle;\n",
              "    }\n",
              "\n",
              "    .dataframe tbody tr th {\n",
              "        vertical-align: top;\n",
              "    }\n",
              "\n",
              "    .dataframe thead th {\n",
              "        text-align: right;\n",
              "    }\n",
              "</style>\n",
              "<table border=\"1\" class=\"dataframe\">\n",
              "  <thead>\n",
              "    <tr style=\"text-align: right;\">\n",
              "      <th></th>\n",
              "      <th>city</th>\n",
              "      <th>bed</th>\n",
              "      <th>bath</th>\n",
              "      <th>price</th>\n",
              "      <th>sqft</th>\n",
              "      <th>city_num</th>\n",
              "    </tr>\n",
              "  </thead>\n",
              "  <tbody>\n",
              "    <tr>\n",
              "      <th>0</th>\n",
              "      <td>Salton City, CA</td>\n",
              "      <td>3</td>\n",
              "      <td>2.0</td>\n",
              "      <td>201900</td>\n",
              "      <td>1560</td>\n",
              "      <td>0</td>\n",
              "    </tr>\n",
              "    <tr>\n",
              "      <th>1</th>\n",
              "      <td>Brawley, CA</td>\n",
              "      <td>3</td>\n",
              "      <td>2.0</td>\n",
              "      <td>228500</td>\n",
              "      <td>713</td>\n",
              "      <td>1</td>\n",
              "    </tr>\n",
              "    <tr>\n",
              "      <th>4</th>\n",
              "      <td>Calexico, CA</td>\n",
              "      <td>4</td>\n",
              "      <td>3.0</td>\n",
              "      <td>385100</td>\n",
              "      <td>2547</td>\n",
              "      <td>2</td>\n",
              "    </tr>\n",
              "    <tr>\n",
              "      <th>5</th>\n",
              "      <td>Brawley, CA</td>\n",
              "      <td>3</td>\n",
              "      <td>1.0</td>\n",
              "      <td>350000</td>\n",
              "      <td>1082</td>\n",
              "      <td>1</td>\n",
              "    </tr>\n",
              "    <tr>\n",
              "      <th>7</th>\n",
              "      <td>Brawley, CA</td>\n",
              "      <td>5</td>\n",
              "      <td>2.1</td>\n",
              "      <td>545000</td>\n",
              "      <td>2600</td>\n",
              "      <td>1</td>\n",
              "    </tr>\n",
              "  </tbody>\n",
              "</table>\n",
              "</div>"
            ],
            "text/plain": [
              "              city  bed  bath   price  sqft  city_num\n",
              "0  Salton City, CA    3   2.0  201900  1560         0\n",
              "1      Brawley, CA    3   2.0  228500   713         1\n",
              "4     Calexico, CA    4   3.0  385100  2547         2\n",
              "5      Brawley, CA    3   1.0  350000  1082         1\n",
              "7      Brawley, CA    5   2.1  545000  2600         1"
            ]
          },
          "metadata": {
            "tags": []
          },
          "execution_count": 22
        }
      ]
    },
    {
      "cell_type": "markdown",
      "metadata": {
        "id": "JgWngbfvk4za"
      },
      "source": [
        "Keep in mind that this sort of integer encoding is not great for categorical data since the model might learn arbritrary correlations between the city number and price, etc. So now we can one-hot-encode this in order to avoid these problems!"
      ]
    },
    {
      "cell_type": "code",
      "metadata": {
        "id": "QAhFOdg9k4zb"
      },
      "source": [
        "# Let's drop the city column since we no longer need it\n",
        "df = df.drop(columns=[\"city\"])"
      ],
      "execution_count": null,
      "outputs": []
    },
    {
      "cell_type": "code",
      "metadata": {
        "id": "vDoNVCwmk4ze",
        "colab": {
          "base_uri": "https://localhost:8080/",
          "height": 204
        },
        "outputId": "1002d700-1462-4485-b426-a054db1e11ec"
      },
      "source": [
        "df.head()"
      ],
      "execution_count": null,
      "outputs": [
        {
          "output_type": "execute_result",
          "data": {
            "text/html": [
              "<div>\n",
              "<style scoped>\n",
              "    .dataframe tbody tr th:only-of-type {\n",
              "        vertical-align: middle;\n",
              "    }\n",
              "\n",
              "    .dataframe tbody tr th {\n",
              "        vertical-align: top;\n",
              "    }\n",
              "\n",
              "    .dataframe thead th {\n",
              "        text-align: right;\n",
              "    }\n",
              "</style>\n",
              "<table border=\"1\" class=\"dataframe\">\n",
              "  <thead>\n",
              "    <tr style=\"text-align: right;\">\n",
              "      <th></th>\n",
              "      <th>bed</th>\n",
              "      <th>bath</th>\n",
              "      <th>price</th>\n",
              "      <th>sqft</th>\n",
              "      <th>city_num</th>\n",
              "    </tr>\n",
              "  </thead>\n",
              "  <tbody>\n",
              "    <tr>\n",
              "      <th>0</th>\n",
              "      <td>3</td>\n",
              "      <td>2.0</td>\n",
              "      <td>201900</td>\n",
              "      <td>1560</td>\n",
              "      <td>0</td>\n",
              "    </tr>\n",
              "    <tr>\n",
              "      <th>1</th>\n",
              "      <td>3</td>\n",
              "      <td>2.0</td>\n",
              "      <td>228500</td>\n",
              "      <td>713</td>\n",
              "      <td>1</td>\n",
              "    </tr>\n",
              "    <tr>\n",
              "      <th>4</th>\n",
              "      <td>4</td>\n",
              "      <td>3.0</td>\n",
              "      <td>385100</td>\n",
              "      <td>2547</td>\n",
              "      <td>2</td>\n",
              "    </tr>\n",
              "    <tr>\n",
              "      <th>5</th>\n",
              "      <td>3</td>\n",
              "      <td>1.0</td>\n",
              "      <td>350000</td>\n",
              "      <td>1082</td>\n",
              "      <td>1</td>\n",
              "    </tr>\n",
              "    <tr>\n",
              "      <th>7</th>\n",
              "      <td>5</td>\n",
              "      <td>2.1</td>\n",
              "      <td>545000</td>\n",
              "      <td>2600</td>\n",
              "      <td>1</td>\n",
              "    </tr>\n",
              "  </tbody>\n",
              "</table>\n",
              "</div>"
            ],
            "text/plain": [
              "   bed  bath   price  sqft  city_num\n",
              "0    3   2.0  201900  1560         0\n",
              "1    3   2.0  228500   713         1\n",
              "4    4   3.0  385100  2547         2\n",
              "5    3   1.0  350000  1082         1\n",
              "7    5   2.1  545000  2600         1"
            ]
          },
          "metadata": {
            "tags": []
          },
          "execution_count": 24
        }
      ]
    },
    {
      "cell_type": "code",
      "metadata": {
        "id": "xSLrZCud37ep",
        "colab": {
          "base_uri": "https://localhost:8080/",
          "height": 253
        },
        "outputId": "d985eea9-0d20-4cd5-ac76-66bf367b3e7d"
      },
      "source": [
        "# add one-hot encoding\n",
        "# Use pd.concat to join the new columns with your original dataframe\n",
        "df = pd.concat([df,pd.get_dummies(df['city_num'], prefix='city_num')],axis=1)\n",
        "\n",
        "# Now drop the original column (you don't need it anymore)\n",
        "# df.drop(['city_num'],axis=1, inplace=True)\n",
        "df.head()"
      ],
      "execution_count": null,
      "outputs": [
        {
          "output_type": "execute_result",
          "data": {
            "text/html": [
              "<div>\n",
              "<style scoped>\n",
              "    .dataframe tbody tr th:only-of-type {\n",
              "        vertical-align: middle;\n",
              "    }\n",
              "\n",
              "    .dataframe tbody tr th {\n",
              "        vertical-align: top;\n",
              "    }\n",
              "\n",
              "    .dataframe thead th {\n",
              "        text-align: right;\n",
              "    }\n",
              "</style>\n",
              "<table border=\"1\" class=\"dataframe\">\n",
              "  <thead>\n",
              "    <tr style=\"text-align: right;\">\n",
              "      <th></th>\n",
              "      <th>bed</th>\n",
              "      <th>bath</th>\n",
              "      <th>price</th>\n",
              "      <th>sqft</th>\n",
              "      <th>city_num</th>\n",
              "      <th>city_num_0</th>\n",
              "      <th>city_num_1</th>\n",
              "      <th>city_num_2</th>\n",
              "      <th>city_num_3</th>\n",
              "      <th>city_num_4</th>\n",
              "      <th>city_num_5</th>\n",
              "      <th>city_num_6</th>\n",
              "      <th>city_num_7</th>\n",
              "      <th>city_num_8</th>\n",
              "      <th>city_num_9</th>\n",
              "      <th>city_num_10</th>\n",
              "      <th>city_num_11</th>\n",
              "      <th>city_num_12</th>\n",
              "      <th>city_num_13</th>\n",
              "      <th>city_num_14</th>\n",
              "      <th>city_num_15</th>\n",
              "      <th>city_num_16</th>\n",
              "      <th>city_num_17</th>\n",
              "      <th>city_num_18</th>\n",
              "      <th>city_num_19</th>\n",
              "      <th>city_num_20</th>\n",
              "      <th>city_num_21</th>\n",
              "      <th>city_num_22</th>\n",
              "      <th>city_num_23</th>\n",
              "      <th>city_num_24</th>\n",
              "      <th>city_num_25</th>\n",
              "      <th>city_num_26</th>\n",
              "      <th>city_num_27</th>\n",
              "      <th>city_num_28</th>\n",
              "      <th>city_num_29</th>\n",
              "      <th>city_num_30</th>\n",
              "      <th>city_num_31</th>\n",
              "      <th>city_num_32</th>\n",
              "      <th>city_num_33</th>\n",
              "      <th>city_num_34</th>\n",
              "      <th>...</th>\n",
              "      <th>city_num_358</th>\n",
              "      <th>city_num_359</th>\n",
              "      <th>city_num_360</th>\n",
              "      <th>city_num_361</th>\n",
              "      <th>city_num_362</th>\n",
              "      <th>city_num_363</th>\n",
              "      <th>city_num_364</th>\n",
              "      <th>city_num_365</th>\n",
              "      <th>city_num_366</th>\n",
              "      <th>city_num_367</th>\n",
              "      <th>city_num_368</th>\n",
              "      <th>city_num_369</th>\n",
              "      <th>city_num_370</th>\n",
              "      <th>city_num_371</th>\n",
              "      <th>city_num_372</th>\n",
              "      <th>city_num_373</th>\n",
              "      <th>city_num_374</th>\n",
              "      <th>city_num_375</th>\n",
              "      <th>city_num_376</th>\n",
              "      <th>city_num_377</th>\n",
              "      <th>city_num_378</th>\n",
              "      <th>city_num_379</th>\n",
              "      <th>city_num_380</th>\n",
              "      <th>city_num_381</th>\n",
              "      <th>city_num_382</th>\n",
              "      <th>city_num_383</th>\n",
              "      <th>city_num_384</th>\n",
              "      <th>city_num_385</th>\n",
              "      <th>city_num_386</th>\n",
              "      <th>city_num_387</th>\n",
              "      <th>city_num_388</th>\n",
              "      <th>city_num_389</th>\n",
              "      <th>city_num_390</th>\n",
              "      <th>city_num_391</th>\n",
              "      <th>city_num_392</th>\n",
              "      <th>city_num_393</th>\n",
              "      <th>city_num_394</th>\n",
              "      <th>city_num_395</th>\n",
              "      <th>city_num_396</th>\n",
              "      <th>city_num_397</th>\n",
              "    </tr>\n",
              "  </thead>\n",
              "  <tbody>\n",
              "    <tr>\n",
              "      <th>0</th>\n",
              "      <td>3</td>\n",
              "      <td>2.0</td>\n",
              "      <td>201900</td>\n",
              "      <td>1560</td>\n",
              "      <td>0</td>\n",
              "      <td>1</td>\n",
              "      <td>0</td>\n",
              "      <td>0</td>\n",
              "      <td>0</td>\n",
              "      <td>0</td>\n",
              "      <td>0</td>\n",
              "      <td>0</td>\n",
              "      <td>0</td>\n",
              "      <td>0</td>\n",
              "      <td>0</td>\n",
              "      <td>0</td>\n",
              "      <td>0</td>\n",
              "      <td>0</td>\n",
              "      <td>0</td>\n",
              "      <td>0</td>\n",
              "      <td>0</td>\n",
              "      <td>0</td>\n",
              "      <td>0</td>\n",
              "      <td>0</td>\n",
              "      <td>0</td>\n",
              "      <td>0</td>\n",
              "      <td>0</td>\n",
              "      <td>0</td>\n",
              "      <td>0</td>\n",
              "      <td>0</td>\n",
              "      <td>0</td>\n",
              "      <td>0</td>\n",
              "      <td>0</td>\n",
              "      <td>0</td>\n",
              "      <td>0</td>\n",
              "      <td>0</td>\n",
              "      <td>0</td>\n",
              "      <td>0</td>\n",
              "      <td>0</td>\n",
              "      <td>0</td>\n",
              "      <td>...</td>\n",
              "      <td>0</td>\n",
              "      <td>0</td>\n",
              "      <td>0</td>\n",
              "      <td>0</td>\n",
              "      <td>0</td>\n",
              "      <td>0</td>\n",
              "      <td>0</td>\n",
              "      <td>0</td>\n",
              "      <td>0</td>\n",
              "      <td>0</td>\n",
              "      <td>0</td>\n",
              "      <td>0</td>\n",
              "      <td>0</td>\n",
              "      <td>0</td>\n",
              "      <td>0</td>\n",
              "      <td>0</td>\n",
              "      <td>0</td>\n",
              "      <td>0</td>\n",
              "      <td>0</td>\n",
              "      <td>0</td>\n",
              "      <td>0</td>\n",
              "      <td>0</td>\n",
              "      <td>0</td>\n",
              "      <td>0</td>\n",
              "      <td>0</td>\n",
              "      <td>0</td>\n",
              "      <td>0</td>\n",
              "      <td>0</td>\n",
              "      <td>0</td>\n",
              "      <td>0</td>\n",
              "      <td>0</td>\n",
              "      <td>0</td>\n",
              "      <td>0</td>\n",
              "      <td>0</td>\n",
              "      <td>0</td>\n",
              "      <td>0</td>\n",
              "      <td>0</td>\n",
              "      <td>0</td>\n",
              "      <td>0</td>\n",
              "      <td>0</td>\n",
              "    </tr>\n",
              "    <tr>\n",
              "      <th>1</th>\n",
              "      <td>3</td>\n",
              "      <td>2.0</td>\n",
              "      <td>228500</td>\n",
              "      <td>713</td>\n",
              "      <td>1</td>\n",
              "      <td>0</td>\n",
              "      <td>1</td>\n",
              "      <td>0</td>\n",
              "      <td>0</td>\n",
              "      <td>0</td>\n",
              "      <td>0</td>\n",
              "      <td>0</td>\n",
              "      <td>0</td>\n",
              "      <td>0</td>\n",
              "      <td>0</td>\n",
              "      <td>0</td>\n",
              "      <td>0</td>\n",
              "      <td>0</td>\n",
              "      <td>0</td>\n",
              "      <td>0</td>\n",
              "      <td>0</td>\n",
              "      <td>0</td>\n",
              "      <td>0</td>\n",
              "      <td>0</td>\n",
              "      <td>0</td>\n",
              "      <td>0</td>\n",
              "      <td>0</td>\n",
              "      <td>0</td>\n",
              "      <td>0</td>\n",
              "      <td>0</td>\n",
              "      <td>0</td>\n",
              "      <td>0</td>\n",
              "      <td>0</td>\n",
              "      <td>0</td>\n",
              "      <td>0</td>\n",
              "      <td>0</td>\n",
              "      <td>0</td>\n",
              "      <td>0</td>\n",
              "      <td>0</td>\n",
              "      <td>0</td>\n",
              "      <td>...</td>\n",
              "      <td>0</td>\n",
              "      <td>0</td>\n",
              "      <td>0</td>\n",
              "      <td>0</td>\n",
              "      <td>0</td>\n",
              "      <td>0</td>\n",
              "      <td>0</td>\n",
              "      <td>0</td>\n",
              "      <td>0</td>\n",
              "      <td>0</td>\n",
              "      <td>0</td>\n",
              "      <td>0</td>\n",
              "      <td>0</td>\n",
              "      <td>0</td>\n",
              "      <td>0</td>\n",
              "      <td>0</td>\n",
              "      <td>0</td>\n",
              "      <td>0</td>\n",
              "      <td>0</td>\n",
              "      <td>0</td>\n",
              "      <td>0</td>\n",
              "      <td>0</td>\n",
              "      <td>0</td>\n",
              "      <td>0</td>\n",
              "      <td>0</td>\n",
              "      <td>0</td>\n",
              "      <td>0</td>\n",
              "      <td>0</td>\n",
              "      <td>0</td>\n",
              "      <td>0</td>\n",
              "      <td>0</td>\n",
              "      <td>0</td>\n",
              "      <td>0</td>\n",
              "      <td>0</td>\n",
              "      <td>0</td>\n",
              "      <td>0</td>\n",
              "      <td>0</td>\n",
              "      <td>0</td>\n",
              "      <td>0</td>\n",
              "      <td>0</td>\n",
              "    </tr>\n",
              "    <tr>\n",
              "      <th>4</th>\n",
              "      <td>4</td>\n",
              "      <td>3.0</td>\n",
              "      <td>385100</td>\n",
              "      <td>2547</td>\n",
              "      <td>2</td>\n",
              "      <td>0</td>\n",
              "      <td>0</td>\n",
              "      <td>1</td>\n",
              "      <td>0</td>\n",
              "      <td>0</td>\n",
              "      <td>0</td>\n",
              "      <td>0</td>\n",
              "      <td>0</td>\n",
              "      <td>0</td>\n",
              "      <td>0</td>\n",
              "      <td>0</td>\n",
              "      <td>0</td>\n",
              "      <td>0</td>\n",
              "      <td>0</td>\n",
              "      <td>0</td>\n",
              "      <td>0</td>\n",
              "      <td>0</td>\n",
              "      <td>0</td>\n",
              "      <td>0</td>\n",
              "      <td>0</td>\n",
              "      <td>0</td>\n",
              "      <td>0</td>\n",
              "      <td>0</td>\n",
              "      <td>0</td>\n",
              "      <td>0</td>\n",
              "      <td>0</td>\n",
              "      <td>0</td>\n",
              "      <td>0</td>\n",
              "      <td>0</td>\n",
              "      <td>0</td>\n",
              "      <td>0</td>\n",
              "      <td>0</td>\n",
              "      <td>0</td>\n",
              "      <td>0</td>\n",
              "      <td>0</td>\n",
              "      <td>...</td>\n",
              "      <td>0</td>\n",
              "      <td>0</td>\n",
              "      <td>0</td>\n",
              "      <td>0</td>\n",
              "      <td>0</td>\n",
              "      <td>0</td>\n",
              "      <td>0</td>\n",
              "      <td>0</td>\n",
              "      <td>0</td>\n",
              "      <td>0</td>\n",
              "      <td>0</td>\n",
              "      <td>0</td>\n",
              "      <td>0</td>\n",
              "      <td>0</td>\n",
              "      <td>0</td>\n",
              "      <td>0</td>\n",
              "      <td>0</td>\n",
              "      <td>0</td>\n",
              "      <td>0</td>\n",
              "      <td>0</td>\n",
              "      <td>0</td>\n",
              "      <td>0</td>\n",
              "      <td>0</td>\n",
              "      <td>0</td>\n",
              "      <td>0</td>\n",
              "      <td>0</td>\n",
              "      <td>0</td>\n",
              "      <td>0</td>\n",
              "      <td>0</td>\n",
              "      <td>0</td>\n",
              "      <td>0</td>\n",
              "      <td>0</td>\n",
              "      <td>0</td>\n",
              "      <td>0</td>\n",
              "      <td>0</td>\n",
              "      <td>0</td>\n",
              "      <td>0</td>\n",
              "      <td>0</td>\n",
              "      <td>0</td>\n",
              "      <td>0</td>\n",
              "    </tr>\n",
              "    <tr>\n",
              "      <th>5</th>\n",
              "      <td>3</td>\n",
              "      <td>1.0</td>\n",
              "      <td>350000</td>\n",
              "      <td>1082</td>\n",
              "      <td>1</td>\n",
              "      <td>0</td>\n",
              "      <td>1</td>\n",
              "      <td>0</td>\n",
              "      <td>0</td>\n",
              "      <td>0</td>\n",
              "      <td>0</td>\n",
              "      <td>0</td>\n",
              "      <td>0</td>\n",
              "      <td>0</td>\n",
              "      <td>0</td>\n",
              "      <td>0</td>\n",
              "      <td>0</td>\n",
              "      <td>0</td>\n",
              "      <td>0</td>\n",
              "      <td>0</td>\n",
              "      <td>0</td>\n",
              "      <td>0</td>\n",
              "      <td>0</td>\n",
              "      <td>0</td>\n",
              "      <td>0</td>\n",
              "      <td>0</td>\n",
              "      <td>0</td>\n",
              "      <td>0</td>\n",
              "      <td>0</td>\n",
              "      <td>0</td>\n",
              "      <td>0</td>\n",
              "      <td>0</td>\n",
              "      <td>0</td>\n",
              "      <td>0</td>\n",
              "      <td>0</td>\n",
              "      <td>0</td>\n",
              "      <td>0</td>\n",
              "      <td>0</td>\n",
              "      <td>0</td>\n",
              "      <td>0</td>\n",
              "      <td>...</td>\n",
              "      <td>0</td>\n",
              "      <td>0</td>\n",
              "      <td>0</td>\n",
              "      <td>0</td>\n",
              "      <td>0</td>\n",
              "      <td>0</td>\n",
              "      <td>0</td>\n",
              "      <td>0</td>\n",
              "      <td>0</td>\n",
              "      <td>0</td>\n",
              "      <td>0</td>\n",
              "      <td>0</td>\n",
              "      <td>0</td>\n",
              "      <td>0</td>\n",
              "      <td>0</td>\n",
              "      <td>0</td>\n",
              "      <td>0</td>\n",
              "      <td>0</td>\n",
              "      <td>0</td>\n",
              "      <td>0</td>\n",
              "      <td>0</td>\n",
              "      <td>0</td>\n",
              "      <td>0</td>\n",
              "      <td>0</td>\n",
              "      <td>0</td>\n",
              "      <td>0</td>\n",
              "      <td>0</td>\n",
              "      <td>0</td>\n",
              "      <td>0</td>\n",
              "      <td>0</td>\n",
              "      <td>0</td>\n",
              "      <td>0</td>\n",
              "      <td>0</td>\n",
              "      <td>0</td>\n",
              "      <td>0</td>\n",
              "      <td>0</td>\n",
              "      <td>0</td>\n",
              "      <td>0</td>\n",
              "      <td>0</td>\n",
              "      <td>0</td>\n",
              "    </tr>\n",
              "    <tr>\n",
              "      <th>7</th>\n",
              "      <td>5</td>\n",
              "      <td>2.1</td>\n",
              "      <td>545000</td>\n",
              "      <td>2600</td>\n",
              "      <td>1</td>\n",
              "      <td>0</td>\n",
              "      <td>1</td>\n",
              "      <td>0</td>\n",
              "      <td>0</td>\n",
              "      <td>0</td>\n",
              "      <td>0</td>\n",
              "      <td>0</td>\n",
              "      <td>0</td>\n",
              "      <td>0</td>\n",
              "      <td>0</td>\n",
              "      <td>0</td>\n",
              "      <td>0</td>\n",
              "      <td>0</td>\n",
              "      <td>0</td>\n",
              "      <td>0</td>\n",
              "      <td>0</td>\n",
              "      <td>0</td>\n",
              "      <td>0</td>\n",
              "      <td>0</td>\n",
              "      <td>0</td>\n",
              "      <td>0</td>\n",
              "      <td>0</td>\n",
              "      <td>0</td>\n",
              "      <td>0</td>\n",
              "      <td>0</td>\n",
              "      <td>0</td>\n",
              "      <td>0</td>\n",
              "      <td>0</td>\n",
              "      <td>0</td>\n",
              "      <td>0</td>\n",
              "      <td>0</td>\n",
              "      <td>0</td>\n",
              "      <td>0</td>\n",
              "      <td>0</td>\n",
              "      <td>0</td>\n",
              "      <td>...</td>\n",
              "      <td>0</td>\n",
              "      <td>0</td>\n",
              "      <td>0</td>\n",
              "      <td>0</td>\n",
              "      <td>0</td>\n",
              "      <td>0</td>\n",
              "      <td>0</td>\n",
              "      <td>0</td>\n",
              "      <td>0</td>\n",
              "      <td>0</td>\n",
              "      <td>0</td>\n",
              "      <td>0</td>\n",
              "      <td>0</td>\n",
              "      <td>0</td>\n",
              "      <td>0</td>\n",
              "      <td>0</td>\n",
              "      <td>0</td>\n",
              "      <td>0</td>\n",
              "      <td>0</td>\n",
              "      <td>0</td>\n",
              "      <td>0</td>\n",
              "      <td>0</td>\n",
              "      <td>0</td>\n",
              "      <td>0</td>\n",
              "      <td>0</td>\n",
              "      <td>0</td>\n",
              "      <td>0</td>\n",
              "      <td>0</td>\n",
              "      <td>0</td>\n",
              "      <td>0</td>\n",
              "      <td>0</td>\n",
              "      <td>0</td>\n",
              "      <td>0</td>\n",
              "      <td>0</td>\n",
              "      <td>0</td>\n",
              "      <td>0</td>\n",
              "      <td>0</td>\n",
              "      <td>0</td>\n",
              "      <td>0</td>\n",
              "      <td>0</td>\n",
              "    </tr>\n",
              "  </tbody>\n",
              "</table>\n",
              "<p>5 rows × 403 columns</p>\n",
              "</div>"
            ],
            "text/plain": [
              "   bed  bath   price  ...  city_num_395  city_num_396  city_num_397\n",
              "0    3   2.0  201900  ...             0             0             0\n",
              "1    3   2.0  228500  ...             0             0             0\n",
              "4    4   3.0  385100  ...             0             0             0\n",
              "5    3   1.0  350000  ...             0             0             0\n",
              "7    5   2.1  545000  ...             0             0             0\n",
              "\n",
              "[5 rows x 403 columns]"
            ]
          },
          "metadata": {
            "tags": []
          },
          "execution_count": 25
        }
      ]
    },
    {
      "cell_type": "markdown",
      "metadata": {
        "id": "Sy6jT8Ufk4zh"
      },
      "source": [
        "Now our data is all numerical!"
      ]
    },
    {
      "cell_type": "markdown",
      "metadata": {
        "id": "XBP_sx8wk4zi"
      },
      "source": [
        "### Feature Engineering\n",
        "We can often create our own features from the data we have if we think we can add some important information that the model then doesn't have to spend time learning.\n",
        "\n",
        "For example, **price per square foot** or **bath to bed ratio** are two pretty good features that may help with price prediction.\n",
        "\n",
        "Adding these in as inputs may seem redundant, but it also means the model doesn't have to learn these functions, which can speed up training.\n",
        "\n",
        "Let's add the price per square foot column."
      ]
    },
    {
      "cell_type": "code",
      "metadata": {
        "id": "CP-LQy_Qk4zi"
      },
      "source": [
        "# Add price per square foot column\n",
        "df['ppsqft'] = df['price']/df['sqft']\n",
        "df['bbr'] = df['bath']/df['bed']"
      ],
      "execution_count": null,
      "outputs": []
    },
    {
      "cell_type": "code",
      "metadata": {
        "id": "BRjXg7NTk4zl",
        "colab": {
          "base_uri": "https://localhost:8080/",
          "height": 253
        },
        "outputId": "0298acb3-d969-4f83-8f22-1aeda48e6e76"
      },
      "source": [
        "df.head()"
      ],
      "execution_count": null,
      "outputs": [
        {
          "output_type": "execute_result",
          "data": {
            "text/html": [
              "<div>\n",
              "<style scoped>\n",
              "    .dataframe tbody tr th:only-of-type {\n",
              "        vertical-align: middle;\n",
              "    }\n",
              "\n",
              "    .dataframe tbody tr th {\n",
              "        vertical-align: top;\n",
              "    }\n",
              "\n",
              "    .dataframe thead th {\n",
              "        text-align: right;\n",
              "    }\n",
              "</style>\n",
              "<table border=\"1\" class=\"dataframe\">\n",
              "  <thead>\n",
              "    <tr style=\"text-align: right;\">\n",
              "      <th></th>\n",
              "      <th>bed</th>\n",
              "      <th>bath</th>\n",
              "      <th>price</th>\n",
              "      <th>sqft</th>\n",
              "      <th>city_num</th>\n",
              "      <th>city_num_0</th>\n",
              "      <th>city_num_1</th>\n",
              "      <th>city_num_2</th>\n",
              "      <th>city_num_3</th>\n",
              "      <th>city_num_4</th>\n",
              "      <th>city_num_5</th>\n",
              "      <th>city_num_6</th>\n",
              "      <th>city_num_7</th>\n",
              "      <th>city_num_8</th>\n",
              "      <th>city_num_9</th>\n",
              "      <th>city_num_10</th>\n",
              "      <th>city_num_11</th>\n",
              "      <th>city_num_12</th>\n",
              "      <th>city_num_13</th>\n",
              "      <th>city_num_14</th>\n",
              "      <th>city_num_15</th>\n",
              "      <th>city_num_16</th>\n",
              "      <th>city_num_17</th>\n",
              "      <th>city_num_18</th>\n",
              "      <th>city_num_19</th>\n",
              "      <th>city_num_20</th>\n",
              "      <th>city_num_21</th>\n",
              "      <th>city_num_22</th>\n",
              "      <th>city_num_23</th>\n",
              "      <th>city_num_24</th>\n",
              "      <th>city_num_25</th>\n",
              "      <th>city_num_26</th>\n",
              "      <th>city_num_27</th>\n",
              "      <th>city_num_28</th>\n",
              "      <th>city_num_29</th>\n",
              "      <th>city_num_30</th>\n",
              "      <th>city_num_31</th>\n",
              "      <th>city_num_32</th>\n",
              "      <th>city_num_33</th>\n",
              "      <th>city_num_34</th>\n",
              "      <th>...</th>\n",
              "      <th>city_num_360</th>\n",
              "      <th>city_num_361</th>\n",
              "      <th>city_num_362</th>\n",
              "      <th>city_num_363</th>\n",
              "      <th>city_num_364</th>\n",
              "      <th>city_num_365</th>\n",
              "      <th>city_num_366</th>\n",
              "      <th>city_num_367</th>\n",
              "      <th>city_num_368</th>\n",
              "      <th>city_num_369</th>\n",
              "      <th>city_num_370</th>\n",
              "      <th>city_num_371</th>\n",
              "      <th>city_num_372</th>\n",
              "      <th>city_num_373</th>\n",
              "      <th>city_num_374</th>\n",
              "      <th>city_num_375</th>\n",
              "      <th>city_num_376</th>\n",
              "      <th>city_num_377</th>\n",
              "      <th>city_num_378</th>\n",
              "      <th>city_num_379</th>\n",
              "      <th>city_num_380</th>\n",
              "      <th>city_num_381</th>\n",
              "      <th>city_num_382</th>\n",
              "      <th>city_num_383</th>\n",
              "      <th>city_num_384</th>\n",
              "      <th>city_num_385</th>\n",
              "      <th>city_num_386</th>\n",
              "      <th>city_num_387</th>\n",
              "      <th>city_num_388</th>\n",
              "      <th>city_num_389</th>\n",
              "      <th>city_num_390</th>\n",
              "      <th>city_num_391</th>\n",
              "      <th>city_num_392</th>\n",
              "      <th>city_num_393</th>\n",
              "      <th>city_num_394</th>\n",
              "      <th>city_num_395</th>\n",
              "      <th>city_num_396</th>\n",
              "      <th>city_num_397</th>\n",
              "      <th>ppsqft</th>\n",
              "      <th>bbr</th>\n",
              "    </tr>\n",
              "  </thead>\n",
              "  <tbody>\n",
              "    <tr>\n",
              "      <th>0</th>\n",
              "      <td>3</td>\n",
              "      <td>2.0</td>\n",
              "      <td>201900</td>\n",
              "      <td>1560</td>\n",
              "      <td>0</td>\n",
              "      <td>1</td>\n",
              "      <td>0</td>\n",
              "      <td>0</td>\n",
              "      <td>0</td>\n",
              "      <td>0</td>\n",
              "      <td>0</td>\n",
              "      <td>0</td>\n",
              "      <td>0</td>\n",
              "      <td>0</td>\n",
              "      <td>0</td>\n",
              "      <td>0</td>\n",
              "      <td>0</td>\n",
              "      <td>0</td>\n",
              "      <td>0</td>\n",
              "      <td>0</td>\n",
              "      <td>0</td>\n",
              "      <td>0</td>\n",
              "      <td>0</td>\n",
              "      <td>0</td>\n",
              "      <td>0</td>\n",
              "      <td>0</td>\n",
              "      <td>0</td>\n",
              "      <td>0</td>\n",
              "      <td>0</td>\n",
              "      <td>0</td>\n",
              "      <td>0</td>\n",
              "      <td>0</td>\n",
              "      <td>0</td>\n",
              "      <td>0</td>\n",
              "      <td>0</td>\n",
              "      <td>0</td>\n",
              "      <td>0</td>\n",
              "      <td>0</td>\n",
              "      <td>0</td>\n",
              "      <td>0</td>\n",
              "      <td>...</td>\n",
              "      <td>0</td>\n",
              "      <td>0</td>\n",
              "      <td>0</td>\n",
              "      <td>0</td>\n",
              "      <td>0</td>\n",
              "      <td>0</td>\n",
              "      <td>0</td>\n",
              "      <td>0</td>\n",
              "      <td>0</td>\n",
              "      <td>0</td>\n",
              "      <td>0</td>\n",
              "      <td>0</td>\n",
              "      <td>0</td>\n",
              "      <td>0</td>\n",
              "      <td>0</td>\n",
              "      <td>0</td>\n",
              "      <td>0</td>\n",
              "      <td>0</td>\n",
              "      <td>0</td>\n",
              "      <td>0</td>\n",
              "      <td>0</td>\n",
              "      <td>0</td>\n",
              "      <td>0</td>\n",
              "      <td>0</td>\n",
              "      <td>0</td>\n",
              "      <td>0</td>\n",
              "      <td>0</td>\n",
              "      <td>0</td>\n",
              "      <td>0</td>\n",
              "      <td>0</td>\n",
              "      <td>0</td>\n",
              "      <td>0</td>\n",
              "      <td>0</td>\n",
              "      <td>0</td>\n",
              "      <td>0</td>\n",
              "      <td>0</td>\n",
              "      <td>0</td>\n",
              "      <td>0</td>\n",
              "      <td>129.423077</td>\n",
              "      <td>0.666667</td>\n",
              "    </tr>\n",
              "    <tr>\n",
              "      <th>1</th>\n",
              "      <td>3</td>\n",
              "      <td>2.0</td>\n",
              "      <td>228500</td>\n",
              "      <td>713</td>\n",
              "      <td>1</td>\n",
              "      <td>0</td>\n",
              "      <td>1</td>\n",
              "      <td>0</td>\n",
              "      <td>0</td>\n",
              "      <td>0</td>\n",
              "      <td>0</td>\n",
              "      <td>0</td>\n",
              "      <td>0</td>\n",
              "      <td>0</td>\n",
              "      <td>0</td>\n",
              "      <td>0</td>\n",
              "      <td>0</td>\n",
              "      <td>0</td>\n",
              "      <td>0</td>\n",
              "      <td>0</td>\n",
              "      <td>0</td>\n",
              "      <td>0</td>\n",
              "      <td>0</td>\n",
              "      <td>0</td>\n",
              "      <td>0</td>\n",
              "      <td>0</td>\n",
              "      <td>0</td>\n",
              "      <td>0</td>\n",
              "      <td>0</td>\n",
              "      <td>0</td>\n",
              "      <td>0</td>\n",
              "      <td>0</td>\n",
              "      <td>0</td>\n",
              "      <td>0</td>\n",
              "      <td>0</td>\n",
              "      <td>0</td>\n",
              "      <td>0</td>\n",
              "      <td>0</td>\n",
              "      <td>0</td>\n",
              "      <td>0</td>\n",
              "      <td>...</td>\n",
              "      <td>0</td>\n",
              "      <td>0</td>\n",
              "      <td>0</td>\n",
              "      <td>0</td>\n",
              "      <td>0</td>\n",
              "      <td>0</td>\n",
              "      <td>0</td>\n",
              "      <td>0</td>\n",
              "      <td>0</td>\n",
              "      <td>0</td>\n",
              "      <td>0</td>\n",
              "      <td>0</td>\n",
              "      <td>0</td>\n",
              "      <td>0</td>\n",
              "      <td>0</td>\n",
              "      <td>0</td>\n",
              "      <td>0</td>\n",
              "      <td>0</td>\n",
              "      <td>0</td>\n",
              "      <td>0</td>\n",
              "      <td>0</td>\n",
              "      <td>0</td>\n",
              "      <td>0</td>\n",
              "      <td>0</td>\n",
              "      <td>0</td>\n",
              "      <td>0</td>\n",
              "      <td>0</td>\n",
              "      <td>0</td>\n",
              "      <td>0</td>\n",
              "      <td>0</td>\n",
              "      <td>0</td>\n",
              "      <td>0</td>\n",
              "      <td>0</td>\n",
              "      <td>0</td>\n",
              "      <td>0</td>\n",
              "      <td>0</td>\n",
              "      <td>0</td>\n",
              "      <td>0</td>\n",
              "      <td>320.476858</td>\n",
              "      <td>0.666667</td>\n",
              "    </tr>\n",
              "    <tr>\n",
              "      <th>4</th>\n",
              "      <td>4</td>\n",
              "      <td>3.0</td>\n",
              "      <td>385100</td>\n",
              "      <td>2547</td>\n",
              "      <td>2</td>\n",
              "      <td>0</td>\n",
              "      <td>0</td>\n",
              "      <td>1</td>\n",
              "      <td>0</td>\n",
              "      <td>0</td>\n",
              "      <td>0</td>\n",
              "      <td>0</td>\n",
              "      <td>0</td>\n",
              "      <td>0</td>\n",
              "      <td>0</td>\n",
              "      <td>0</td>\n",
              "      <td>0</td>\n",
              "      <td>0</td>\n",
              "      <td>0</td>\n",
              "      <td>0</td>\n",
              "      <td>0</td>\n",
              "      <td>0</td>\n",
              "      <td>0</td>\n",
              "      <td>0</td>\n",
              "      <td>0</td>\n",
              "      <td>0</td>\n",
              "      <td>0</td>\n",
              "      <td>0</td>\n",
              "      <td>0</td>\n",
              "      <td>0</td>\n",
              "      <td>0</td>\n",
              "      <td>0</td>\n",
              "      <td>0</td>\n",
              "      <td>0</td>\n",
              "      <td>0</td>\n",
              "      <td>0</td>\n",
              "      <td>0</td>\n",
              "      <td>0</td>\n",
              "      <td>0</td>\n",
              "      <td>0</td>\n",
              "      <td>...</td>\n",
              "      <td>0</td>\n",
              "      <td>0</td>\n",
              "      <td>0</td>\n",
              "      <td>0</td>\n",
              "      <td>0</td>\n",
              "      <td>0</td>\n",
              "      <td>0</td>\n",
              "      <td>0</td>\n",
              "      <td>0</td>\n",
              "      <td>0</td>\n",
              "      <td>0</td>\n",
              "      <td>0</td>\n",
              "      <td>0</td>\n",
              "      <td>0</td>\n",
              "      <td>0</td>\n",
              "      <td>0</td>\n",
              "      <td>0</td>\n",
              "      <td>0</td>\n",
              "      <td>0</td>\n",
              "      <td>0</td>\n",
              "      <td>0</td>\n",
              "      <td>0</td>\n",
              "      <td>0</td>\n",
              "      <td>0</td>\n",
              "      <td>0</td>\n",
              "      <td>0</td>\n",
              "      <td>0</td>\n",
              "      <td>0</td>\n",
              "      <td>0</td>\n",
              "      <td>0</td>\n",
              "      <td>0</td>\n",
              "      <td>0</td>\n",
              "      <td>0</td>\n",
              "      <td>0</td>\n",
              "      <td>0</td>\n",
              "      <td>0</td>\n",
              "      <td>0</td>\n",
              "      <td>0</td>\n",
              "      <td>151.197487</td>\n",
              "      <td>0.750000</td>\n",
              "    </tr>\n",
              "    <tr>\n",
              "      <th>5</th>\n",
              "      <td>3</td>\n",
              "      <td>1.0</td>\n",
              "      <td>350000</td>\n",
              "      <td>1082</td>\n",
              "      <td>1</td>\n",
              "      <td>0</td>\n",
              "      <td>1</td>\n",
              "      <td>0</td>\n",
              "      <td>0</td>\n",
              "      <td>0</td>\n",
              "      <td>0</td>\n",
              "      <td>0</td>\n",
              "      <td>0</td>\n",
              "      <td>0</td>\n",
              "      <td>0</td>\n",
              "      <td>0</td>\n",
              "      <td>0</td>\n",
              "      <td>0</td>\n",
              "      <td>0</td>\n",
              "      <td>0</td>\n",
              "      <td>0</td>\n",
              "      <td>0</td>\n",
              "      <td>0</td>\n",
              "      <td>0</td>\n",
              "      <td>0</td>\n",
              "      <td>0</td>\n",
              "      <td>0</td>\n",
              "      <td>0</td>\n",
              "      <td>0</td>\n",
              "      <td>0</td>\n",
              "      <td>0</td>\n",
              "      <td>0</td>\n",
              "      <td>0</td>\n",
              "      <td>0</td>\n",
              "      <td>0</td>\n",
              "      <td>0</td>\n",
              "      <td>0</td>\n",
              "      <td>0</td>\n",
              "      <td>0</td>\n",
              "      <td>0</td>\n",
              "      <td>...</td>\n",
              "      <td>0</td>\n",
              "      <td>0</td>\n",
              "      <td>0</td>\n",
              "      <td>0</td>\n",
              "      <td>0</td>\n",
              "      <td>0</td>\n",
              "      <td>0</td>\n",
              "      <td>0</td>\n",
              "      <td>0</td>\n",
              "      <td>0</td>\n",
              "      <td>0</td>\n",
              "      <td>0</td>\n",
              "      <td>0</td>\n",
              "      <td>0</td>\n",
              "      <td>0</td>\n",
              "      <td>0</td>\n",
              "      <td>0</td>\n",
              "      <td>0</td>\n",
              "      <td>0</td>\n",
              "      <td>0</td>\n",
              "      <td>0</td>\n",
              "      <td>0</td>\n",
              "      <td>0</td>\n",
              "      <td>0</td>\n",
              "      <td>0</td>\n",
              "      <td>0</td>\n",
              "      <td>0</td>\n",
              "      <td>0</td>\n",
              "      <td>0</td>\n",
              "      <td>0</td>\n",
              "      <td>0</td>\n",
              "      <td>0</td>\n",
              "      <td>0</td>\n",
              "      <td>0</td>\n",
              "      <td>0</td>\n",
              "      <td>0</td>\n",
              "      <td>0</td>\n",
              "      <td>0</td>\n",
              "      <td>323.475046</td>\n",
              "      <td>0.333333</td>\n",
              "    </tr>\n",
              "    <tr>\n",
              "      <th>7</th>\n",
              "      <td>5</td>\n",
              "      <td>2.1</td>\n",
              "      <td>545000</td>\n",
              "      <td>2600</td>\n",
              "      <td>1</td>\n",
              "      <td>0</td>\n",
              "      <td>1</td>\n",
              "      <td>0</td>\n",
              "      <td>0</td>\n",
              "      <td>0</td>\n",
              "      <td>0</td>\n",
              "      <td>0</td>\n",
              "      <td>0</td>\n",
              "      <td>0</td>\n",
              "      <td>0</td>\n",
              "      <td>0</td>\n",
              "      <td>0</td>\n",
              "      <td>0</td>\n",
              "      <td>0</td>\n",
              "      <td>0</td>\n",
              "      <td>0</td>\n",
              "      <td>0</td>\n",
              "      <td>0</td>\n",
              "      <td>0</td>\n",
              "      <td>0</td>\n",
              "      <td>0</td>\n",
              "      <td>0</td>\n",
              "      <td>0</td>\n",
              "      <td>0</td>\n",
              "      <td>0</td>\n",
              "      <td>0</td>\n",
              "      <td>0</td>\n",
              "      <td>0</td>\n",
              "      <td>0</td>\n",
              "      <td>0</td>\n",
              "      <td>0</td>\n",
              "      <td>0</td>\n",
              "      <td>0</td>\n",
              "      <td>0</td>\n",
              "      <td>0</td>\n",
              "      <td>...</td>\n",
              "      <td>0</td>\n",
              "      <td>0</td>\n",
              "      <td>0</td>\n",
              "      <td>0</td>\n",
              "      <td>0</td>\n",
              "      <td>0</td>\n",
              "      <td>0</td>\n",
              "      <td>0</td>\n",
              "      <td>0</td>\n",
              "      <td>0</td>\n",
              "      <td>0</td>\n",
              "      <td>0</td>\n",
              "      <td>0</td>\n",
              "      <td>0</td>\n",
              "      <td>0</td>\n",
              "      <td>0</td>\n",
              "      <td>0</td>\n",
              "      <td>0</td>\n",
              "      <td>0</td>\n",
              "      <td>0</td>\n",
              "      <td>0</td>\n",
              "      <td>0</td>\n",
              "      <td>0</td>\n",
              "      <td>0</td>\n",
              "      <td>0</td>\n",
              "      <td>0</td>\n",
              "      <td>0</td>\n",
              "      <td>0</td>\n",
              "      <td>0</td>\n",
              "      <td>0</td>\n",
              "      <td>0</td>\n",
              "      <td>0</td>\n",
              "      <td>0</td>\n",
              "      <td>0</td>\n",
              "      <td>0</td>\n",
              "      <td>0</td>\n",
              "      <td>0</td>\n",
              "      <td>0</td>\n",
              "      <td>209.615385</td>\n",
              "      <td>0.420000</td>\n",
              "    </tr>\n",
              "  </tbody>\n",
              "</table>\n",
              "<p>5 rows × 405 columns</p>\n",
              "</div>"
            ],
            "text/plain": [
              "   bed  bath   price  sqft  ...  city_num_396  city_num_397      ppsqft       bbr\n",
              "0    3   2.0  201900  1560  ...             0             0  129.423077  0.666667\n",
              "1    3   2.0  228500   713  ...             0             0  320.476858  0.666667\n",
              "4    4   3.0  385100  2547  ...             0             0  151.197487  0.750000\n",
              "5    3   1.0  350000  1082  ...             0             0  323.475046  0.333333\n",
              "7    5   2.1  545000  2600  ...             0             0  209.615385  0.420000\n",
              "\n",
              "[5 rows x 405 columns]"
            ]
          },
          "metadata": {
            "tags": []
          },
          "execution_count": 27
        }
      ]
    },
    {
      "cell_type": "markdown",
      "metadata": {
        "id": "aooaHe-Qk4zp"
      },
      "source": [
        "### Data Normalizing/Standardization"
      ]
    },
    {
      "cell_type": "markdown",
      "metadata": {
        "id": "kXQNU_Xok4zq"
      },
      "source": [
        "We are almost ready to feed this into our model!\n",
        "\n",
        "Before we do we need to do something important, normalize.\n",
        "\n",
        "Normalizing data is the process of bounding your inputs into a range, most commonly [0,1]. It can be done with:\n",
        "$$x \\to_{norm}  \\frac{x - \\min}{\\max - \\min}$$\n",
        "\n",
        "Standardizing data is making your data have a zero mean and unit variance. This can be done with:\n",
        "\n",
        "$$x \\to_{stdize}  \\frac{x - \\mu}{\\sigma}$$\n",
        "Where $\\mu$ is your mean and $\\sigma$ is your standard deviation.\n",
        "\n",
        "The rule of thumb is, if your data distribution is normal (bell curve), then standardize, otherwise normalize.\n",
        "\n",
        "This is important because our features vary hugely in magnitude, for example the sqft is in the thousands compared to the number of beds and baths.\n"
      ]
    },
    {
      "cell_type": "markdown",
      "metadata": {
        "id": "910orSkHk4zr"
      },
      "source": [
        "#### Which ones should be normalized and which should be standardized?"
      ]
    },
    {
      "cell_type": "code",
      "metadata": {
        "id": "ZE2GqDSzk4zs"
      },
      "source": [
        "def normalize_col(col):\n",
        "    return (col - col.min())/(col.max() - col.min())\n",
        "\n",
        "def standardize_col(col):\n",
        "    return (col - col.mean()) / col.std()"
      ],
      "execution_count": null,
      "outputs": []
    },
    {
      "cell_type": "code",
      "metadata": {
        "id": "TOTxHLg0k4zv",
        "colab": {
          "base_uri": "https://localhost:8080/",
          "height": 1000
        },
        "outputId": "bd95bec9-0825-4fd7-eabd-7b665c5a2685"
      },
      "source": [
        "for col in df:\n",
        "  if 'city_num' in col:\n",
        "    continue\n",
        "  else:\n",
        "    print(col)\n",
        "    df.hist(column=col)\n",
        "    plt.show()"
      ],
      "execution_count": null,
      "outputs": [
        {
          "output_type": "stream",
          "text": [
            "bed\n"
          ],
          "name": "stdout"
        },
        {
          "output_type": "display_data",
          "data": {
            "image/png": "[encoded data removed]",
            "text/plain": [
              "<Figure size 432x288 with 1 Axes>"
            ]
          },
          "metadata": {
            "tags": [],
            "needs_background": "light"
          }
        },
        {
          "output_type": "stream",
          "text": [
            "bath\n"
          ],
          "name": "stdout"
        },
        {
          "output_type": "display_data",
          "data": {
            "image/png": "[encoded data removed]",
            "text/plain": [
              "<Figure size 432x288 with 1 Axes>"
            ]
          },
          "metadata": {
            "tags": [],
            "needs_background": "light"
          }
        },
        {
          "output_type": "stream",
          "text": [
            "price\n"
          ],
          "name": "stdout"
        },
        {
          "output_type": "display_data",
          "data": {
            "image/png": "[encoded data removed]",
            "text/plain": [
              "<Figure size 432x288 with 1 Axes>"
            ]
          },
          "metadata": {
            "tags": [],
            "needs_background": "light"
          }
        },
        {
          "output_type": "stream",
          "text": [
            "sqft\n"
          ],
          "name": "stdout"
        },
        {
          "output_type": "display_data",
          "data": {
            "image/png": "[encoded data removed]",
            "text/plain": [
              "<Figure size 432x288 with 1 Axes>"
            ]
          },
          "metadata": {
            "tags": [],
            "needs_background": "light"
          }
        },
        {
          "output_type": "stream",
          "text": [
            "ppsqft\n"
          ],
          "name": "stdout"
        },
        {
          "output_type": "display_data",
          "data": {
            "image/png": "[encoded data removed]",
            "text/plain": [
              "<Figure size 432x288 with 1 Axes>"
            ]
          },
          "metadata": {
            "tags": [],
            "needs_background": "light"
          }
        },
        {
          "output_type": "stream",
          "text": [
            "bbr\n"
          ],
          "name": "stdout"
        },
        {
          "output_type": "display_data",
          "data": {
            "image/png": "[encoded data removed]",
            "text/plain": [
              "<Figure size 432x288 with 1 Axes>"
            ]
          },
          "metadata": {
            "tags": [],
            "needs_background": "light"
          }
        }
      ]
    },
    {
      "cell_type": "markdown",
      "metadata": {
        "id": "z8ien1cXk4zz"
      },
      "source": [
        "As you can see, pretty much all but city_num mimic a normal distribution, we should therfore standardize our data."
      ]
    },
    {
      "cell_type": "code",
      "metadata": {
        "id": "bMFwLfgJk4z0",
        "colab": {
          "base_uri": "https://localhost:8080/",
          "height": 1000
        },
        "outputId": "8e758587-1bab-4ebd-f563-20d44959c523"
      },
      "source": [
        "# Let's do the rest\n",
        "for col in df:\n",
        "    if 'city_num' in col or col == 'price': \n",
        "        # We don't want to standardize city_num, since these are categories.\n",
        "        # or price since it's our target\n",
        "        continue\n",
        "    # Standardize columns\n",
        "    df[col] = standardize_col(df[col])\n",
        "    # Plot data again\n",
        "    df[col].plot.hist(bins = 50, title = col)\n",
        "    plt.show()\n",
        "   "
      ],
      "execution_count": null,
      "outputs": [
        {
          "output_type": "display_data",
          "data": {
            "image/png": "[encoded data removed]",
            "text/plain": [
              "<Figure size 432x288 with 1 Axes>"
            ]
          },
          "metadata": {
            "tags": [],
            "needs_background": "light"
          }
        },
        {
          "output_type": "display_data",
          "data": {
            "image/png": "[encoded data removed]",
            "text/plain": [
              "<Figure size 432x288 with 1 Axes>"
            ]
          },
          "metadata": {
            "tags": [],
            "needs_background": "light"
          }
        },
        {
          "output_type": "display_data",
          "data": {
            "image/png": "[encoded data removed]",
            "text/plain": [
              "<Figure size 432x288 with 1 Axes>"
            ]
          },
          "metadata": {
            "tags": [],
            "needs_background": "light"
          }
        },
        {
          "output_type": "display_data",
          "data": {
            "image/png": "[encoded data removed]",
            "text/plain": [
              "<Figure size 432x288 with 1 Axes>"
            ]
          },
          "metadata": {
            "tags": [],
            "needs_background": "light"
          }
        },
        {
          "output_type": "display_data",
          "data": {
            "image/png": "[encoded data removed]",
            "text/plain": [
              "<Figure size 432x288 with 1 Axes>"
            ]
          },
          "metadata": {
            "tags": [],
            "needs_background": "light"
          }
        }
      ]
    },
    {
      "cell_type": "markdown",
      "metadata": {
        "id": "JOBGE_FAk4z3"
      },
      "source": [
        "Now we are ready to use this data!"
      ]
    }
  ]
}