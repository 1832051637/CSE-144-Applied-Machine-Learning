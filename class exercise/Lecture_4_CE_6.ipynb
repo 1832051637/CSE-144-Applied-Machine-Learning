{
  "nbformat": 4,
  "nbformat_minor": 0,
  "metadata": {
    "colab": {
      "name": "CE-6.ipynb",
      "provenance": []
    },
    "kernelspec": {
      "name": "python3",
      "display_name": "Python 3"
    }
  },
  "cells": [
    {
      "cell_type": "code",
      "metadata": {
        "id": "Mj6RUngiOm6r"
      },
      "source": [
        "from sklearn import linear_model\n",
        "from sklearn import datasets\n",
        "from sklearn.metrics import mean_squared_error, r2_score\n",
        "\n",
        "import matplotlib.pyplot as plt\n",
        "\n",
        "import numpy as np"
      ],
      "execution_count": null,
      "outputs": []
    },
    {
      "cell_type": "markdown",
      "metadata": {
        "id": "e0rBmXtkJZnD"
      },
      "source": [
        "##Linear Regression with scikit-learn\n",
        "\n",
        "In this exercise we'll learn how linear regression works using a diabetes dataset. We'll first see how we can use scikit-learn's LinearRegression model, then implement our own."
      ]
    },
    {
      "cell_type": "markdown",
      "metadata": {
        "id": "AFGs3z2CKByq"
      },
      "source": [
        "First we need to load our data. Luckily, scikit-learn has a few datasets built in. This dataset has 10 feature columns and one target column. [Here](https://scikit-learn.org/stable/datasets/index.html#diabetes-dataset) is a description of what each of them are."
      ]
    },
    {
      "cell_type": "code",
      "metadata": {
        "id": "rzooXkS8cbd_",
        "colab": {
          "base_uri": "https://localhost:8080/",
          "height": 68
        },
        "outputId": "da58a10d-8330-4e2a-c0b0-f678c2344bad"
      },
      "source": [
        "diabetes_X, diabetes_y = datasets.load_diabetes(return_X_y=True)\n",
        "print('Type of the training input:', type(diabetes_X))\n",
        "print('Dimensions of the input data:', diabetes_X.shape)\n",
        "print('Dimensions of the output data:', diabetes_y.shape)"
      ],
      "execution_count": null,
      "outputs": [
        {
          "output_type": "stream",
          "text": [
            "Type of the training input: <class 'numpy.ndarray'>\n",
            "Dimensions of the input data: (442, 10)\n",
            "Dimensions of the output data: (442,)\n"
          ],
          "name": "stdout"
        }
      ]
    },
    {
      "cell_type": "markdown",
      "metadata": {
        "id": "O6-n-avLKaMl"
      },
      "source": [
        "We only care about a single column at a time, so let's use the BMI and blood pressure columns. For each of them, let's slice them into a train and test set."
      ]
    },
    {
      "cell_type": "code",
      "metadata": {
        "id": "kGKlsCB0iFxs",
        "colab": {
          "base_uri": "https://localhost:8080/",
          "height": 85
        },
        "outputId": "0911824e-a583-494c-bcb2-45dcd47fc06b"
      },
      "source": [
        "bmi_X_train = diabetes_X[:-20, np.newaxis, 2]\n",
        "bp_X_train = diabetes_X[:-20, np.newaxis, 3]\n",
        "\n",
        "bmi_X_test = diabetes_X[-20:, np.newaxis, 2]\n",
        "bp_X_test = diabetes_X[-20:, np.newaxis, 3]\n",
        "\n",
        "diabetes_y_train = diabetes_y[:-20]\n",
        "diabetes_y_test = diabetes_y[-20:]\n",
        "\n",
        "print('blood pressure training data input size:', bp_X_train.shape)\n",
        "print('blood pressure training data output size:', diabetes_y_train.shape)\n",
        "print('blood pressure test data input size:', bp_X_test.shape)\n",
        "print('blood pressure test data output size:', diabetes_y_test.shape)"
      ],
      "execution_count": null,
      "outputs": [
        {
          "output_type": "stream",
          "text": [
            "blood pressure training data input size: (422, 1)\n",
            "blood pressure training data output size: (422,)\n",
            "blood pressure test data input size: (20, 1)\n",
            "blood pressure test data output size: (20,)\n"
          ],
          "name": "stdout"
        }
      ]
    },
    {
      "cell_type": "markdown",
      "metadata": {
        "id": "rMEPzcAgK2yZ"
      },
      "source": [
        "Here we define some functions to make evaluation of our linear regression easier."
      ]
    },
    {
      "cell_type": "code",
      "metadata": {
        "id": "NHdOSzwYGfTK"
      },
      "source": [
        "'''\n",
        "Prints slope, intercept, MSE< and coefficient of determination \n",
        "'''\n",
        "def regr_info(regr):\n",
        "    # The coefficient\n",
        "    print('Coefficient: \\n', regr.coef_)\n",
        "    # The intercept\n",
        "    print('Intercept: \\n', regr.intercept_)\n",
        "    # The mean squared error\n",
        "    print(f'Mean squared error: {mean_squared_error(diabetes_y_test, diabetes_y_pred):.2f}')\n",
        "    # The coefficient of determination: 1 is perfect prediction\n",
        "    print(f'Coefficient of determination: {r2_score(diabetes_y_test, diabetes_y_pred):.2f}')"
      ],
      "execution_count": null,
      "outputs": []
    },
    {
      "cell_type": "code",
      "metadata": {
        "id": "BCxdZ185HHum"
      },
      "source": [
        "'''\n",
        "Given X, y data and a LinearRegression object, returns two points representing\n",
        "the regression line fitting the given data's scale.\n",
        "'''\n",
        "def compute_line_from_regr(X_data, y_data, regr):\n",
        "    l_bound = np.min(X_data)\n",
        "    r_bound = np.max(X_data)\n",
        "    return [l_bound, r_bound], [l_bound * regr.coef_ + regr.intercept_, r_bound * regr.coef_ + regr.intercept_]"
      ],
      "execution_count": null,
      "outputs": []
    },
    {
      "cell_type": "markdown",
      "metadata": {
        "id": "PCauwhLesS03"
      },
      "source": [
        "Let's use sklearn's least squares LinearRegression to predict diabetes given blood pressure:"
      ]
    },
    {
      "cell_type": "code",
      "metadata": {
        "id": "sA-ln3uMiz59"
      },
      "source": [
        "# Create linear regression object\n",
        "regr_bp = linear_model.LinearRegression()\n",
        "\n",
        "# Train the model using the training set\n",
        "regr_bp.fit(bp_X_train, diabetes_y_train)\n",
        "\n",
        "# Make predictions using the testing set\n",
        "diabetes_y_pred = regr_bp.predict(bp_X_test)"
      ],
      "execution_count": null,
      "outputs": []
    },
    {
      "cell_type": "markdown",
      "metadata": {
        "id": "bYPFos8SLBdI"
      },
      "source": [
        "Using our regr_info function defined above, we can see our line coefficient and intercept, the mean squared error of our regression, and the coefficient of determination. The coefficient of determination is the proportion of the variance in the dependent variable (diabetes) that is predictable from the independent variable (blood pressure), with 1 being a perfect score."
      ]
    },
    {
      "cell_type": "code",
      "metadata": {
        "id": "gBjaExAei3En",
        "colab": {
          "base_uri": "https://localhost:8080/",
          "height": 119
        },
        "outputId": "36d1d13d-2e1b-47f2-f2b0-d6d131a6f5d5"
      },
      "source": [
        "regr_info(regr_bp)"
      ],
      "execution_count": null,
      "outputs": [
        {
          "output_type": "stream",
          "text": [
            "Coefficient: \n",
            " [709.19471785]\n",
            "Intercept: \n",
            " 153.13724802041313\n",
            "Mean squared error: 4058.41\n",
            "Coefficient of determination: 0.16\n"
          ],
          "name": "stdout"
        }
      ]
    },
    {
      "cell_type": "markdown",
      "metadata": {
        "id": "C1LEeXKSL9Jy"
      },
      "source": [
        "Now we can plot our regression against our training data as well as our testing data. We can clearly see that the correlation between blood pressure and diabetes isn't particularly strong."
      ]
    },
    {
      "cell_type": "code",
      "metadata": {
        "id": "PSSa_WgmlT74",
        "colab": {
          "base_uri": "https://localhost:8080/",
          "height": 545
        },
        "outputId": "3f05f73f-4e90-46a1-ab63-04bcf5d01b79"
      },
      "source": [
        "line_x, line_y = compute_line_from_regr(bp_X_train, diabetes_y_train, regr_bp)\n",
        "\n",
        "plt.scatter(bp_X_train, diabetes_y_train, color='blue')\n",
        "plt.plot(line_x, line_y, color='orangered', linewidth=3)\n",
        "plt.title('Regression line and training data (Blood Pressure)')\n",
        "plt.show()\n",
        "\n",
        "line_x, line_y = compute_line_from_regr(bp_X_test, diabetes_y_test, regr_bp)\n",
        "\n",
        "plt.scatter(bp_X_test, diabetes_y_test, color='blue')\n",
        "plt.plot(line_x, line_y, color='orangered', linewidth=3)\n",
        "plt.title('Regression line and testing data (Blood Pressure)')\n",
        "plt.show()"
      ],
      "execution_count": null,
      "outputs": [
        {
          "output_type": "display_data",
          "data": {
            "image/png": "[encoded data removed]",
            "text/plain": [
              "<Figure size 432x288 with 1 Axes>"
            ]
          },
          "metadata": {
            "tags": [],
            "needs_background": "light"
          }
        },
        {
          "output_type": "display_data",
          "data": {
            "image/png": "[encoded data removed]",
            "text/plain": [
              "<Figure size 432x288 with 1 Axes>"
            ]
          },
          "metadata": {
            "tags": [],
            "needs_background": "light"
          }
        }
      ]
    },
    {
      "cell_type": "markdown",
      "metadata": {
        "id": "pWbsm2ST2Su_"
      },
      "source": [
        "Now perform linear regression but instead of using blood pressure, use BMI."
      ]
    },
    {
      "cell_type": "code",
      "metadata": {
        "id": "9Qbsoz5roQ43"
      },
      "source": [
        "# Create linear regression object\n",
        "regr_bmi = linear_model.LinearRegression()\n",
        "# Train the model using the training sets\n",
        "regr_bmi.fit(bmi_X_train, diabetes_y_train)\n",
        "# Make predictions using the testing set\n",
        "diabetes_y_pred = regr_bmi.predict(bmi_X_test)"
      ],
      "execution_count": null,
      "outputs": []
    },
    {
      "cell_type": "markdown",
      "metadata": {
        "id": "JP7OIchM2fMt"
      },
      "source": [
        "Call the regr_info() function to get some insight."
      ]
    },
    {
      "cell_type": "code",
      "metadata": {
        "id": "_JU7P94Tqgub",
        "colab": {
          "base_uri": "https://localhost:8080/",
          "height": 119
        },
        "outputId": "e7f8c2ff-2873-4122-ce8a-303c6423994f"
      },
      "source": [
        "regr_info(regr_bmi)"
      ],
      "execution_count": null,
      "outputs": [
        {
          "output_type": "stream",
          "text": [
            "Coefficient: \n",
            " [938.23786125]\n",
            "Intercept: \n",
            " 152.91886182616167\n",
            "Mean squared error: 2548.07\n",
            "Coefficient of determination: 0.47\n"
          ],
          "name": "stdout"
        }
      ]
    },
    {
      "cell_type": "markdown",
      "metadata": {
        "id": "FdHwp4kQm0X8"
      },
      "source": [
        "Recreate the previous plots with your data."
      ]
    },
    {
      "cell_type": "code",
      "metadata": {
        "id": "fPDxsc8OpBz9",
        "colab": {
          "base_uri": "https://localhost:8080/",
          "height": 545
        },
        "outputId": "fd54fd28-cbbb-43d2-9244-0f7e16ee06be"
      },
      "source": [
        "line_x, line_y = compute_line_from_regr(bmi_X_train, diabetes_y_train, regr_bmi)\n",
        "\n",
        "plt.scatter(bmi_X_train, diabetes_y_train, color='blue')\n",
        "plt.plot(line_x, line_y, color='orangered', linewidth=3)\n",
        "plt.title('Regression line and training data (Blood Pressure)')\n",
        "plt.show()\n",
        "\n",
        "line_x, line_y = compute_line_from_regr(bmi_X_test, diabetes_y_test, regr_bmi)\n",
        "\n",
        "plt.scatter(bmi_X_test, diabetes_y_test, color='blue')\n",
        "plt.plot(line_x, line_y, color='orangered', linewidth=3)\n",
        "plt.title('Regression line and testing data (Blood Pressure)')\n",
        "plt.show()"
      ],
      "execution_count": null,
      "outputs": [
        {
          "output_type": "display_data",
          "data": {
            "image/png": "[encoded data removed]",
            "text/plain": [
              "<Figure size 432x288 with 1 Axes>"
            ]
          },
          "metadata": {
            "tags": [],
            "needs_background": "light"
          }
        },
        {
          "output_type": "display_data",
          "data": {
            "image/png": "[encoded data removed]",
            "text/plain": [
              "<Figure size 432x288 with 1 Axes>"
            ]
          },
          "metadata": {
            "tags": [],
            "needs_background": "light"
          }
        }
      ]
    },
    {
      "cell_type": "markdown",
      "metadata": {
        "id": "N9-msjEU3ZlS"
      },
      "source": [
        "Does blood pressure or BMI correlate more strongly with diabetes? How did you come to this answer? Refer to the plots and/or the LinearRegression info."
      ]
    },
    {
      "cell_type": "markdown",
      "metadata": {
        "id": "JJkfSjwq5H13"
      },
      "source": [
        "[YOUR ANSWER HERE]"
      ]
    },
    {
      "cell_type": "markdown",
      "metadata": {
        "id": "azSa21m15PJQ"
      },
      "source": [
        "##Linear Regression from scratch\n",
        "\n",
        "Now how we've seen what linear regression is, let's implement it."
      ]
    },
    {
      "cell_type": "markdown",
      "metadata": {
        "id": "uZQllU7M6U3l"
      },
      "source": [
        "How does it work under the hood? Essentially, we are trying to find $(m, b)$ in the equation of our line $y=mx+b$ to minimize our error. More formally, $$y=\\theta_0 + \\theta_1 x$$"
      ]
    },
    {
      "cell_type": "markdown",
      "metadata": {
        "id": "E_xEsNyY5OWp"
      },
      "source": [
        "What exactly is our error? For linear regression, we use Mean Squared Error (MSE) between our predicted y values and our true y values. MSE is defined as:\n",
        "$$J = \\frac{1}{n} \\sum_{i=1}^{n}{(pred_i-y_i)^2}$$\n",
        "\n",
        "In practice, we usually use \n",
        "$$J = \\frac{1}{2n} \\sum_{i=1}^{n}{(pred_i-y_i)^2}$$\n",
        "\n",
        "to make the derivative simpler."
      ]
    },
    {
      "cell_type": "markdown",
      "metadata": {
        "id": "iqu1Iu1j9f0w"
      },
      "source": [
        "So what does our algorithm look like? We will use gradient descent to optimize our MSE loss. Since MSE is a convex function, we can optimize it to a minimum value.\n",
        "\n",
        "With gradient descent, we will iteratively optimize $(\\theta_0, \\theta_1)$ to minimize our MSE error. Each update, we multiply our computed gradient by the learning rate $\\alpha$ to adjust the size of each update step:\n",
        "\n",
        "$$ \\theta_j = \\theta_j - \\alpha \\frac{\\partial}{\\partial \\theta_j}J(\\theta_0, \\theta_1)$$\n",
        "\n",
        "We can analytically compute the partial derivatives of $J$ with respect to each $\\theta_j$ to simplify our process (we will write $J(\\theta_0, \\theta_1)$ as $J$ for simplicity):\n",
        "\n",
        "$$\\frac{\\partial}{\\partial \\theta_j}J = \\frac{\\partial}{\\partial \\theta_j}\\frac{1}{2n} \\sum_{i=1}^{n}{(pred_i-y_i)^2} =\\\\ \\frac{\\partial}{\\partial \\theta_j}\\frac{1}{2n} \\sum_{i=1}^{n}{(h_{\\theta}(x_i)-y_i)^2} \\ \\ \\text{(Chain Rule)}=\\\\ \\frac{1}{n} \\sum_{i=1}^{n}{(h_{\\theta}(x_i)-y_i)\\frac{\\partial}{\\partial \\theta_1}}(h_{\\theta}(x_i) - y) =\\\\ \\frac{1}{n} \\sum_{i=1}^{n}{(\\theta_0 + \\theta_1 x_i-y_i)\\frac{\\partial}{\\partial \\theta_j}}(\\theta_0 + \\theta_1 x_i - y)$$\n",
        "\n",
        "Now: for $\\theta_0$ the partial derivative evaluates to 1, resulting in:\n",
        "\n",
        "$$\\frac{\\partial}{\\partial \\theta_0}J=\\frac{1}{n} \\sum_{i=1}^{n}{(\\theta_0 + \\theta_1 x_i-y_i)} \\cdot 1$$\n",
        "\n",
        "And for $\\theta_1$ the partial derivative evaluates to $x_i$, resulting in:\n",
        "\n",
        "$$\\frac{\\partial}{\\partial \\theta_1}J=\\frac{1}{n} \\sum_{i=1}^{n}{(\\theta_0 + \\theta_1 x_i-y_i)} \\cdot x_i$$\n",
        "\n",
        "\n",
        "*Note that $h_{\\theta}(x_i)=pred_i=\\theta_0 + \\theta_1 x$."
      ]
    },
    {
      "cell_type": "markdown",
      "metadata": {
        "id": "zlULK-GHTEaP"
      },
      "source": [
        "Now that we have $\\frac{\\partial}{\\partial \\theta_j}J$ for each $j$, we can fully define our gradient descent update step:\n",
        "\n",
        "$$ \\theta_j = \\theta_j - \\alpha \\frac{\\partial}{\\partial \\theta_j}J(\\theta_0, \\theta_1) = \\theta_j - \\alpha\\frac{1}{n}\\sum_{i=1}^{n}(h_{\\theta}(x_i)-y)x_i$$\n",
        "\n",
        "If we specify for each $\\theta_j$:\n",
        "\n",
        "$$ \\theta_0 = \\theta_0 - \\alpha \\frac{\\partial}{\\partial \\theta_0}J(\\theta_0, \\theta_1) = \\theta_0 - \\alpha\\frac{1}{n} \\sum_{i=1}^{n}{(\\theta_0 + \\theta_1 x_i-y_i)} \\cdot 1$$\n",
        "\n",
        "$$\\theta_1 = \\theta_1 - \\alpha \\frac{\\partial}{\\partial \\theta_1}J(\\theta_0, \\theta_1) = \\theta_1 - \\alpha\\frac{1}{n} \\sum_{i=1}^{n}{(\\theta_0 + \\theta_1 x_i-y_i)} \\cdot x_i$$"
      ]
    },
    {
      "cell_type": "markdown",
      "metadata": {
        "id": "iz3JBDt7i-6A"
      },
      "source": [
        "Note that this derivation is specifically for the linear case of only one independent variable. If we add more independent variables, we must refer to a more general derivation which is available in the slides."
      ]
    },
    {
      "cell_type": "markdown",
      "metadata": {
        "id": "OqJiWQS4iQ88"
      },
      "source": [
        "Now let's implement it!"
      ]
    },
    {
      "cell_type": "code",
      "metadata": {
        "id": "sqkEzUakGwrI"
      },
      "source": [
        "'''\n",
        "Implementation of MSE as shown in above derivation.\n",
        "'''\n",
        "def mse(X, y, h):\n",
        "    n = len(X)\n",
        "    return 0.5 * (1/n) * np.sum((y - h)**2)\n",
        "\n",
        "'''\n",
        "Implementation of the derivative of MSE as shown in above derivation.\n",
        "'''\n",
        "def compute_gradient(X, y, h):\n",
        "    n = len(X)\n",
        "    return 1/n * np.dot((h - y), X)\n",
        "\n",
        "'''\n",
        "Gradient descent step. \n",
        "Takes X, y, current theta_0 & theta_1, and alpha. \n",
        "Returns an updated theta_0 & theta_1.\n",
        "'''\n",
        "def gradient_descent_step(X, y, theta_0, theta_1, alpha):\n",
        "    h = 0\n",
        "\n",
        "    # First compute h (y_pred)\n",
        "    h = theta_0 + theta_1 * X\n",
        "\n",
        "    # Then compute theta_0's update step\n",
        "    theta_0 = theta_0 - alpha * compute_gradient(np.ones_like(X), y, h)\n",
        "\n",
        "    # Finally compute theta_1's update step\n",
        "    theta_1 = theta_1 - alpha * compute_gradient(X, y, h)\n",
        "    \n",
        "    return theta_0, theta_1\n",
        "\n",
        "'''\n",
        "Linear regression algorithm.\n",
        "'''\n",
        "def linear_regression(X, y, epochs=100000, alpha=0.02):\n",
        "    theta_0 = 0\n",
        "    theta_1 = 0\n",
        "    n = len(X)\n",
        "    for epoch in range(epochs):\n",
        "        theta_0, theta_1 = gradient_descent_step(X, y, theta_0, theta_1, alpha)\n",
        "        if epoch % (epochs/10) == 0:\n",
        "            h = theta_0 + theta_1*X\n",
        "            loss = mse(X, y, h)\n",
        "            print(f'{100*(epoch+(epochs/10))/epochs}% done. theta_0: {theta_0:.2f}, theta_1: {theta_1:.2f}, Loss: {loss:.2f}')\n",
        "    return theta_0, theta_1"
      ],
      "execution_count": null,
      "outputs": []
    },
    {
      "cell_type": "markdown",
      "metadata": {
        "id": "ex7qwWyHjpvF"
      },
      "source": [
        "Let's test our implementation on the blood pressure data so we can validate our results:"
      ]
    },
    {
      "cell_type": "code",
      "metadata": {
        "id": "Bcx_k4aoHBol",
        "colab": {
          "base_uri": "https://localhost:8080/",
          "height": 187
        },
        "outputId": "c93573ab-9403-4892-b2f7-4c36f788be58"
      },
      "source": [
        "theta_0, theta_1 = linear_regression(bp_X_train.flatten(), diabetes_y_train.flatten())"
      ],
      "execution_count": null,
      "outputs": [
        {
          "output_type": "stream",
          "text": [
            "10.0% done. theta_0: 3.07, theta_1: 0.03, Loss: 14268.57\n",
            "20.0% done. theta_0: 153.28, theta_1: 258.44, Loss: 2634.72\n",
            "30.0% done. theta_0: 153.23, theta_1: 422.67, Loss: 2497.57\n",
            "40.0% done. theta_0: 153.20, theta_1: 527.07, Loss: 2442.15\n",
            "50.0% done. theta_0: 153.17, theta_1: 593.42, Loss: 2419.76\n",
            "60.0% done. theta_0: 153.16, theta_1: 635.60, Loss: 2410.71\n",
            "70.0% done. theta_0: 153.15, theta_1: 662.42, Loss: 2407.05\n",
            "80.0% done. theta_0: 153.15, theta_1: 679.46, Loss: 2405.58\n",
            "90.0% done. theta_0: 153.14, theta_1: 690.29, Loss: 2404.98\n",
            "100.0% done. theta_0: 153.14, theta_1: 697.18, Loss: 2404.74\n"
          ],
          "name": "stdout"
        }
      ]
    },
    {
      "cell_type": "markdown",
      "metadata": {
        "id": "Q2pmWZgTjlgz"
      },
      "source": [
        "How well did we do? Here are the results from when we used scikit-learn's LinearRegression (theta_0 = Intercept, theta_1 = Coefficient):\n",
        "\n",
        "Coefficient: \\\n",
        " [709.19471785]\\\n",
        "Intercept: \\\n",
        " 153.13724802041313\\\n",
        "Mean squared error: 4058.41\\\n",
        "Coefficient of determination: 0.16"
      ]
    },
    {
      "cell_type": "markdown",
      "metadata": {
        "id": "ls00UbYqAhA2"
      },
      "source": [
        "What parameter(s) should we tweak in our algorithm to improve the accuracy of our coefficients?"
      ]
    },
    {
      "cell_type": "markdown",
      "metadata": {
        "id": "xQ1n-LpBnn2M"
      },
      "source": [
        "We see how well our line coefficients match, but let's also compute MSE and coefficient of determination:\n",
        "\n",
        "(Note, the MSE that scikit-learn provides is not multiplied by 0.5, and we are also evaluating on the testing data. This is the reason for the discrepancy between the MSE loss we were printing above manually and the scikit-learn MSE.)"
      ]
    },
    {
      "cell_type": "code",
      "metadata": {
        "id": "ihX8emFhmaZk",
        "colab": {
          "base_uri": "https://localhost:8080/",
          "height": 51
        },
        "outputId": "444fa2c4-4dd7-4532-842f-2faa064e938d"
      },
      "source": [
        "diabetes_y_pred = theta_0 + theta_1 * bp_X_test\n",
        "\n",
        "print(f'Mean squared error: {mean_squared_error(diabetes_y_test, diabetes_y_pred):.2f}')\n",
        "print(f'Coefficient of determination: {r2_score(diabetes_y_test, diabetes_y_pred):.2f}')"
      ],
      "execution_count": null,
      "outputs": [
        {
          "output_type": "stream",
          "text": [
            "Mean squared error: 4062.88\n",
            "Coefficient of determination: 0.16\n"
          ],
          "name": "stdout"
        }
      ]
    },
    {
      "cell_type": "markdown",
      "metadata": {
        "id": "1jwLXB1plWj1"
      },
      "source": [
        "We can also plot our computed line against train and test data and see how it compares to scikit-learn:"
      ]
    },
    {
      "cell_type": "code",
      "metadata": {
        "id": "vps19D0mI4K4",
        "colab": {
          "base_uri": "https://localhost:8080/",
          "height": 545
        },
        "outputId": "e7eba365-8f19-47c7-b6cc-b09ffd82e421"
      },
      "source": [
        "'''\n",
        "Given X, y data and the coefficients, returns two points representing\n",
        "the regression line fitting the given data's scale.\n",
        "'''\n",
        "def compute_line_from_coefs(X_data, y_data, theta_0, theta_1):\n",
        "    l_bound = np.min(X_data)\n",
        "    r_bound = np.max(X_data)\n",
        "    return [l_bound, r_bound], [l_bound * theta_1 + theta_0, r_bound * theta_1 + theta_0]\n",
        "\n",
        "line_x, line_y = compute_line_from_coefs(bp_X_train, diabetes_y_train, theta_0, theta_1)\n",
        "\n",
        "plt.scatter(bmi_X_train, diabetes_y_train, color='blue')\n",
        "plt.plot(line_x, line_y, color='orangered', linewidth=3)\n",
        "plt.title('Regression line and training data')\n",
        "plt.show()\n",
        "\n",
        "line_x, line_y = compute_line_from_coefs(bp_X_test, diabetes_y_test, theta_0, theta_1)\n",
        "\n",
        "plt.scatter(bmi_X_test, diabetes_y_test, color='blue')\n",
        "plt.plot(line_x, line_y, color='orangered', linewidth=3)\n",
        "plt.title('Regression line and testing data')\n",
        "plt.show()"
      ],
      "execution_count": null,
      "outputs": [
        {
          "output_type": "display_data",
          "data": {
            "image/png": "[encoded data removed]",
            "text/plain": [
              "<Figure size 432x288 with 1 Axes>"
            ]
          },
          "metadata": {
            "tags": [],
            "needs_background": "light"
          }
        },
        {
          "output_type": "display_data",
          "data": {
            "image/png": "[encoded data removed]",
            "text/plain": [
              "<Figure size 432x288 with 1 Axes>"
            ]
          },
          "metadata": {
            "tags": [],
            "needs_background": "light"
          }
        }
      ]
    }
  ]
}